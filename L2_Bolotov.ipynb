{
 "cells": [
  {
   "cell_type": "markdown",
   "metadata": {},
   "source": [
    "Лабораторная работа №!\n",
    "Болотов М.В. АСУ4-22-1м\n",
    "Создание графа информационно-аналитических веб-ресурсов, посвященных металлургической промышленности в Российской Федерации и ближнем зарубежье"
   ]
  },
  {
   "cell_type": "code",
   "execution_count": 8,
   "metadata": {},
   "outputs": [],
   "source": [
    "import requests                      # Импорт необходимых библиотек\n",
    "import graphviz\n",
    "import networkx as nx\n",
    "from bs4 import BeautifulSoup\n",
    "from itertools import combinations"
   ]
  },
  {
   "cell_type": "code",
   "execution_count": 9,
   "metadata": {},
   "outputs": [],
   "source": [
    "websites = [                         # Создание списка веб-ресурсов\n",
    "    {\"url\": \"https://ru.wikipedia.org/wiki/Чёрные_металлы\", \"keywords\": [\"чёрная металлургия\", \"черные металлы\"]},\n",
    "    {\"url\": \"https://chermetinfo.elpub.ru/jour/index\", \"keywords\": [\"чёрная металлургия\", \"процессы\"]},\n",
    "    {\"url\": \"https://ru.wikipedia.org/wiki/Чёрная_металлургия_России\", \"keywords\": [\"чёрная металлургия в России\", \"технологические процессы\"]},\n",
    "    {\"url\": \"https://www.yaklass.ru/p/geografiya/9-klass/khoziaistvo-rossiiskoi-federatcii-6899732/chernaia-metallurgiia-6925823/re-636e7420-2642-458a-a2a3-c0881114e0e3\", \"keywords\": [\"чёрная металлургия в России\", \"география металлургии\"]},\n",
    "    {\"url\": \"https://foxford.ru/wiki/geografiya/chernaia-metallurgia-rossii\", \"keywords\": [\"чёрная металлургия\", \"металлургическая промышленность\"]},\n",
    "    {\"url\": \"https://dzen.ru/a/Y_2t_DA_H1wtKhrj\", \"keywords\": [\"чёрная металлургия\", \"промышленность\", \"технологии\", \"агрегаты\"]},\n",
    "    {\"url\": \"https://www.urm-company.ru/about-us/blog/154-chernaya-metallurgiya-rossii/\", \"keywords\": [\"чёрная металлургия\", \"металлургическая промышленность\", \"типы\"]},\n",
    "    {\"url\": \"https://journal.tinkoff.ru/news/rus-metal-industry-2022/\", \"keywords\": [\"чёрная металлургия\", \"лидеры отрасли\"]},\n",
    "    {\"url\": \"https://studfile.net/preview/7138676/page:2/\", \"keywords\": [\"чёрная металлургия\", \"в экономике\"]},\n",
    "    {\"url\": \"https://lindeal.com/trends/promyshlennost-stran-sng-chto-proizvodyat-rossiya-kazakhstan-belarus-ukraina-i-drugie-gosudarstva\", \"keywords\": [\"чёрная металлургия\", \"страны СНГ\"]},\n",
    "]\n",
    "\n",
    "G = nx.Graph()                       # Создание объека графа с помощью библиотеки NetworkX"
   ]
  },
  {
   "cell_type": "code",
   "execution_count": 10,
   "metadata": {},
   "outputs": [],
   "source": [
    "for website in websites:\n",
    "    url = website[\"url\"]\n",
    "    keywords = website[\"keywords\"]\n",
    "    \n",
    "    response = requests.get(url)                          # Отправка GET-запроса и получение содержимого страницы\n",
    "    soup = BeautifulSoup(response.text, 'html.parser')\n",
    "    \n",
    "    text = soup.get_text()                                # Извлечение текста со страницы\n",
    "    \n",
    "    G.add_node(url)                                       # Создание узла графа с URL-адресом в качестве метки\n",
    "    \n",
    "    for keyword in keywords:                              # Добавление ключевых терминов как атрибут узла\n",
    "        G.nodes[url][keyword] = True"
   ]
  },
  {
   "cell_type": "code",
   "execution_count": 11,
   "metadata": {},
   "outputs": [],
   "source": [
    "for u, v in combinations(websites, 2):                    # Определение связей между узлами\n",
    "    u_keywords = set(u[\"keywords\"])\n",
    "    v_keywords = set(v[\"keywords\"])\n",
    "    \n",
    "    common_keywords = u_keywords.intersection(v_keywords)\n",
    "    \n",
    "    if common_keywords:\n",
    "        G.add_edge(u[\"url\"], v[\"url\"], common_keywords=list(common_keywords))"
   ]
  },
  {
   "cell_type": "code",
   "execution_count": 12,
   "metadata": {},
   "outputs": [
    {
     "ename": "PermissionError",
     "evalue": "[Errno 13] Permission denied: 'C:\\\\Users\\\\79125\\\\OneDrive\\\\Рабочий стол\\\\Учёба ПНИПУ АСУ\\\\3 семестр\\\\Интеллектуальный анализ Web данных'",
     "output_type": "error",
     "traceback": [
      "\u001b[1;31m---------------------------------------------------------------------------\u001b[0m",
      "\u001b[1;31mPermissionError\u001b[0m                           Traceback (most recent call last)",
      "\u001b[1;32mc:\\Users\\79125\\OneDrive\\Рабочий стол\\Учёба ПНИПУ АСУ\\3 семестр\\Интеллектуальный анализ Web данных\\L2_Bolotov.ipynb Ячейка 6\u001b[0m line \u001b[0;36m2\n\u001b[0;32m      <a href='vscode-notebook-cell:/c%3A/Users/79125/OneDrive/%D0%A0%D0%B0%D0%B1%D0%BE%D1%87%D0%B8%D0%B9%20%D1%81%D1%82%D0%BE%D0%BB/%D0%A3%D1%87%D1%91%D0%B1%D0%B0%20%D0%9F%D0%9D%D0%98%D0%9F%D0%A3%20%D0%90%D0%A1%D0%A3/3%20%D1%81%D0%B5%D0%BC%D0%B5%D1%81%D1%82%D1%80/%D0%98%D0%BD%D1%82%D0%B5%D0%BB%D0%BB%D0%B5%D0%BA%D1%82%D1%83%D0%B0%D0%BB%D1%8C%D0%BD%D1%8B%D0%B9%20%D0%B0%D0%BD%D0%B0%D0%BB%D0%B8%D0%B7%20Web%20%D0%B4%D0%B0%D0%BD%D0%BD%D1%8B%D1%85/L2_Bolotov.ipynb#W5sZmlsZQ%3D%3D?line=0'>1</a>\u001b[0m dot \u001b[39m=\u001b[39m graphviz\u001b[39m.\u001b[39mDigraph(comment\u001b[39m=\u001b[39m\u001b[39m'\u001b[39m\u001b[39mМеталлургическая промышленность\u001b[39m\u001b[39m'\u001b[39m)   \u001b[39m# Создание DOT-графа для визуализации\u001b[39;00m\n\u001b[1;32m----> <a href='vscode-notebook-cell:/c%3A/Users/79125/OneDrive/%D0%A0%D0%B0%D0%B1%D0%BE%D1%87%D0%B8%D0%B9%20%D1%81%D1%82%D0%BE%D0%BB/%D0%A3%D1%87%D1%91%D0%B1%D0%B0%20%D0%9F%D0%9D%D0%98%D0%9F%D0%A3%20%D0%90%D0%A1%D0%A3/3%20%D1%81%D0%B5%D0%BC%D0%B5%D1%81%D1%82%D1%80/%D0%98%D0%BD%D1%82%D0%B5%D0%BB%D0%BB%D0%B5%D0%BA%D1%82%D1%83%D0%B0%D0%BB%D1%8C%D0%BD%D1%8B%D0%B9%20%D0%B0%D0%BD%D0%B0%D0%BB%D0%B8%D0%B7%20Web%20%D0%B4%D0%B0%D0%BD%D0%BD%D1%8B%D1%85/L2_Bolotov.ipynb#W5sZmlsZQ%3D%3D?line=1'>2</a>\u001b[0m dot\u001b[39m.\u001b[39;49mrender(\u001b[39mr\u001b[39;49m\u001b[39m'\u001b[39;49m\u001b[39mC:\u001b[39;49m\u001b[39m\\\u001b[39;49m\u001b[39mUsers\u001b[39;49m\u001b[39m\\\u001b[39;49m\u001b[39m79125\u001b[39;49m\u001b[39m\\\u001b[39;49m\u001b[39mOneDrive\u001b[39;49m\u001b[39m\\\u001b[39;49m\u001b[39mРабочий стол\u001b[39;49m\u001b[39m\\\u001b[39;49m\u001b[39mУчёба ПНИПУ АСУ\u001b[39;49m\u001b[39m\\\u001b[39;49m\u001b[39m3 семестр\u001b[39;49m\u001b[39m\\\u001b[39;49m\u001b[39mИнтеллектуальный анализ Web данных\u001b[39;49m\u001b[39m'\u001b[39;49m, view\u001b[39m=\u001b[39;49m\u001b[39mTrue\u001b[39;49;00m)\n\u001b[0;32m      <a href='vscode-notebook-cell:/c%3A/Users/79125/OneDrive/%D0%A0%D0%B0%D0%B1%D0%BE%D1%87%D0%B8%D0%B9%20%D1%81%D1%82%D0%BE%D0%BB/%D0%A3%D1%87%D1%91%D0%B1%D0%B0%20%D0%9F%D0%9D%D0%98%D0%9F%D0%A3%20%D0%90%D0%A1%D0%A3/3%20%D1%81%D0%B5%D0%BC%D0%B5%D1%81%D1%82%D1%80/%D0%98%D0%BD%D1%82%D0%B5%D0%BB%D0%BB%D0%B5%D0%BA%D1%82%D1%83%D0%B0%D0%BB%D1%8C%D0%BD%D1%8B%D0%B9%20%D0%B0%D0%BD%D0%B0%D0%BB%D0%B8%D0%B7%20Web%20%D0%B4%D0%B0%D0%BD%D0%BD%D1%8B%D1%85/L2_Bolotov.ipynb#W5sZmlsZQ%3D%3D?line=3'>4</a>\u001b[0m \u001b[39mfor\u001b[39;00m node \u001b[39min\u001b[39;00m G\u001b[39m.\u001b[39mnodes:                                                \u001b[39m# Добавление узлов и связей в DOT-граф\u001b[39;00m\n\u001b[0;32m      <a href='vscode-notebook-cell:/c%3A/Users/79125/OneDrive/%D0%A0%D0%B0%D0%B1%D0%BE%D1%87%D0%B8%D0%B9%20%D1%81%D1%82%D0%BE%D0%BB/%D0%A3%D1%87%D1%91%D0%B1%D0%B0%20%D0%9F%D0%9D%D0%98%D0%9F%D0%A3%20%D0%90%D0%A1%D0%A3/3%20%D1%81%D0%B5%D0%BC%D0%B5%D1%81%D1%82%D1%80/%D0%98%D0%BD%D1%82%D0%B5%D0%BB%D0%BB%D0%B5%D0%BA%D1%82%D1%83%D0%B0%D0%BB%D1%8C%D0%BD%D1%8B%D0%B9%20%D0%B0%D0%BD%D0%B0%D0%BB%D0%B8%D0%B7%20Web%20%D0%B4%D0%B0%D0%BD%D0%BD%D1%8B%D1%85/L2_Bolotov.ipynb#W5sZmlsZQ%3D%3D?line=4'>5</a>\u001b[0m     dot\u001b[39m.\u001b[39mnode(node)\n",
      "File \u001b[1;32mc:\\Users\\79125\\AppData\\Local\\Programs\\Python\\Python310\\lib\\site-packages\\graphviz\\_tools.py:171\u001b[0m, in \u001b[0;36mdeprecate_positional_args.<locals>.decorator.<locals>.wrapper\u001b[1;34m(*args, **kwargs)\u001b[0m\n\u001b[0;32m    162\u001b[0m     wanted \u001b[39m=\u001b[39m \u001b[39m'\u001b[39m\u001b[39m, \u001b[39m\u001b[39m'\u001b[39m\u001b[39m.\u001b[39mjoin(\u001b[39mf\u001b[39m\u001b[39m'\u001b[39m\u001b[39m{\u001b[39;00mname\u001b[39m}\u001b[39;00m\u001b[39m=\u001b[39m\u001b[39m{\u001b[39;00mvalue\u001b[39m!r}\u001b[39;00m\u001b[39m'\u001b[39m\n\u001b[0;32m    163\u001b[0m                        \u001b[39mfor\u001b[39;00m name, value \u001b[39min\u001b[39;00m deprecated\u001b[39m.\u001b[39mitems())\n\u001b[0;32m    164\u001b[0m     warnings\u001b[39m.\u001b[39mwarn(\u001b[39mf\u001b[39m\u001b[39m'\u001b[39m\u001b[39mThe signature of \u001b[39m\u001b[39m{\u001b[39;00mfunc\u001b[39m.\u001b[39m\u001b[39m__name__\u001b[39m\u001b[39m}\u001b[39;00m\u001b[39m will be reduced\u001b[39m\u001b[39m'\u001b[39m\n\u001b[0;32m    165\u001b[0m                   \u001b[39mf\u001b[39m\u001b[39m'\u001b[39m\u001b[39m to \u001b[39m\u001b[39m{\u001b[39;00msupported_number\u001b[39m}\u001b[39;00m\u001b[39m positional args\u001b[39m\u001b[39m'\u001b[39m\n\u001b[0;32m    166\u001b[0m                   \u001b[39mf\u001b[39m\u001b[39m'\u001b[39m\u001b[39m \u001b[39m\u001b[39m{\u001b[39;00m\u001b[39mlist\u001b[39m(supported)\u001b[39m}\u001b[39;00m\u001b[39m: pass \u001b[39m\u001b[39m{\u001b[39;00mwanted\u001b[39m}\u001b[39;00m\u001b[39m'\u001b[39m\n\u001b[0;32m    167\u001b[0m                   \u001b[39m'\u001b[39m\u001b[39m as keyword arg(s)\u001b[39m\u001b[39m'\u001b[39m,\n\u001b[0;32m    168\u001b[0m                   stacklevel\u001b[39m=\u001b[39mstacklevel,\n\u001b[0;32m    169\u001b[0m                   category\u001b[39m=\u001b[39mcategory)\n\u001b[1;32m--> 171\u001b[0m \u001b[39mreturn\u001b[39;00m func(\u001b[39m*\u001b[39margs, \u001b[39m*\u001b[39m\u001b[39m*\u001b[39mkwargs)\n",
      "File \u001b[1;32mc:\\Users\\79125\\AppData\\Local\\Programs\\Python\\Python310\\lib\\site-packages\\graphviz\\rendering.py:118\u001b[0m, in \u001b[0;36mRender.render\u001b[1;34m(self, filename, directory, view, cleanup, format, renderer, formatter, neato_no_op, quiet, quiet_view, outfile, engine, raise_if_result_exists, overwrite_source)\u001b[0m\n\u001b[0;32m    115\u001b[0m \u001b[39mif\u001b[39;00m outfile \u001b[39mis\u001b[39;00m \u001b[39mnot\u001b[39;00m \u001b[39mNone\u001b[39;00m \u001b[39mand\u001b[39;00m filename \u001b[39mis\u001b[39;00m \u001b[39mNone\u001b[39;00m:\n\u001b[0;32m    116\u001b[0m     filename \u001b[39m=\u001b[39m \u001b[39mself\u001b[39m\u001b[39m.\u001b[39m_get_filepath(outfile)\n\u001b[1;32m--> 118\u001b[0m filepath \u001b[39m=\u001b[39m \u001b[39mself\u001b[39;49m\u001b[39m.\u001b[39;49msave(filename, directory\u001b[39m=\u001b[39;49mdirectory, skip_existing\u001b[39m=\u001b[39;49m\u001b[39mNone\u001b[39;49;00m)\n\u001b[0;32m    120\u001b[0m args\u001b[39m.\u001b[39mappend(filepath)\n\u001b[0;32m    122\u001b[0m rendered \u001b[39m=\u001b[39m \u001b[39mself\u001b[39m\u001b[39m.\u001b[39m_render(\u001b[39m*\u001b[39margs, \u001b[39m*\u001b[39m\u001b[39m*\u001b[39mkwargs)\n",
      "File \u001b[1;32mc:\\Users\\79125\\AppData\\Local\\Programs\\Python\\Python310\\lib\\site-packages\\graphviz\\_tools.py:171\u001b[0m, in \u001b[0;36mdeprecate_positional_args.<locals>.decorator.<locals>.wrapper\u001b[1;34m(*args, **kwargs)\u001b[0m\n\u001b[0;32m    162\u001b[0m     wanted \u001b[39m=\u001b[39m \u001b[39m'\u001b[39m\u001b[39m, \u001b[39m\u001b[39m'\u001b[39m\u001b[39m.\u001b[39mjoin(\u001b[39mf\u001b[39m\u001b[39m'\u001b[39m\u001b[39m{\u001b[39;00mname\u001b[39m}\u001b[39;00m\u001b[39m=\u001b[39m\u001b[39m{\u001b[39;00mvalue\u001b[39m!r}\u001b[39;00m\u001b[39m'\u001b[39m\n\u001b[0;32m    163\u001b[0m                        \u001b[39mfor\u001b[39;00m name, value \u001b[39min\u001b[39;00m deprecated\u001b[39m.\u001b[39mitems())\n\u001b[0;32m    164\u001b[0m     warnings\u001b[39m.\u001b[39mwarn(\u001b[39mf\u001b[39m\u001b[39m'\u001b[39m\u001b[39mThe signature of \u001b[39m\u001b[39m{\u001b[39;00mfunc\u001b[39m.\u001b[39m\u001b[39m__name__\u001b[39m\u001b[39m}\u001b[39;00m\u001b[39m will be reduced\u001b[39m\u001b[39m'\u001b[39m\n\u001b[0;32m    165\u001b[0m                   \u001b[39mf\u001b[39m\u001b[39m'\u001b[39m\u001b[39m to \u001b[39m\u001b[39m{\u001b[39;00msupported_number\u001b[39m}\u001b[39;00m\u001b[39m positional args\u001b[39m\u001b[39m'\u001b[39m\n\u001b[0;32m    166\u001b[0m                   \u001b[39mf\u001b[39m\u001b[39m'\u001b[39m\u001b[39m \u001b[39m\u001b[39m{\u001b[39;00m\u001b[39mlist\u001b[39m(supported)\u001b[39m}\u001b[39;00m\u001b[39m: pass \u001b[39m\u001b[39m{\u001b[39;00mwanted\u001b[39m}\u001b[39;00m\u001b[39m'\u001b[39m\n\u001b[0;32m    167\u001b[0m                   \u001b[39m'\u001b[39m\u001b[39m as keyword arg(s)\u001b[39m\u001b[39m'\u001b[39m,\n\u001b[0;32m    168\u001b[0m                   stacklevel\u001b[39m=\u001b[39mstacklevel,\n\u001b[0;32m    169\u001b[0m                   category\u001b[39m=\u001b[39mcategory)\n\u001b[1;32m--> 171\u001b[0m \u001b[39mreturn\u001b[39;00m func(\u001b[39m*\u001b[39margs, \u001b[39m*\u001b[39m\u001b[39m*\u001b[39mkwargs)\n",
      "File \u001b[1;32mc:\\Users\\79125\\AppData\\Local\\Programs\\Python\\Python310\\lib\\site-packages\\graphviz\\saving.py:79\u001b[0m, in \u001b[0;36mSave.save\u001b[1;34m(self, filename, directory, skip_existing)\u001b[0m\n\u001b[0;32m     76\u001b[0m \u001b[39mself\u001b[39m\u001b[39m.\u001b[39m_mkdirs(filepath)\n\u001b[0;32m     78\u001b[0m log\u001b[39m.\u001b[39mdebug(\u001b[39m'\u001b[39m\u001b[39mwrite lines to \u001b[39m\u001b[39m%r\u001b[39;00m\u001b[39m'\u001b[39m, filepath)\n\u001b[1;32m---> 79\u001b[0m \u001b[39mwith\u001b[39;00m \u001b[39mopen\u001b[39;49m(filepath, \u001b[39m'\u001b[39;49m\u001b[39mw\u001b[39;49m\u001b[39m'\u001b[39;49m, encoding\u001b[39m=\u001b[39;49m\u001b[39mself\u001b[39;49m\u001b[39m.\u001b[39;49mencoding) \u001b[39mas\u001b[39;00m fd:\n\u001b[0;32m     80\u001b[0m     \u001b[39mfor\u001b[39;00m uline \u001b[39min\u001b[39;00m \u001b[39mself\u001b[39m:\n\u001b[0;32m     81\u001b[0m         fd\u001b[39m.\u001b[39mwrite(uline)\n",
      "\u001b[1;31mPermissionError\u001b[0m: [Errno 13] Permission denied: 'C:\\\\Users\\\\79125\\\\OneDrive\\\\Рабочий стол\\\\Учёба ПНИПУ АСУ\\\\3 семестр\\\\Интеллектуальный анализ Web данных'"
     ]
    }
   ],
   "source": [
    "dot = graphviz.Digraph(comment='Металлургическая промышленность')   # Создание DOT-графа для визуализации\n",
    "dot.render(r'C:\\Users\\79125\\OneDrive\\Рабочий стол\\Учёба ПНИПУ АСУ\\3 семестр\\Интеллектуальный анализ Web данных', view=True)\n",
    "\n",
    "for node in G.nodes:                                                # Добавление узлов и связей в DOT-граф\n",
    "    dot.node(node)\n",
    "\n",
    "for edge in G.edges:\n",
    "    u, v = edge\n",
    "    common_keywords = G.edges[u, v][\"common_keywords\"]\n",
    "    label = \", \".join(common_keywords)\n",
    "    dot.edge(u, v, label=label)\n",
    "\n",
    "dot.render('metalurgy_graph', view=True)                            # Сохранение DOT-графа в файл и открытие его для просмотра"
   ]
  },
  {
   "cell_type": "code",
   "execution_count": null,
   "metadata": {},
   "outputs": [],
   "source": []
  }
 ],
 "metadata": {
  "kernelspec": {
   "display_name": "Python 3",
   "language": "python",
   "name": "python3"
  },
  "language_info": {
   "codemirror_mode": {
    "name": "ipython",
    "version": 3
   },
   "file_extension": ".py",
   "mimetype": "text/x-python",
   "name": "python",
   "nbconvert_exporter": "python",
   "pygments_lexer": "ipython3",
   "version": "3.10.7"
  },
  "orig_nbformat": 4
 },
 "nbformat": 4,
 "nbformat_minor": 2
}
