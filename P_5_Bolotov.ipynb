{
 "cells": [
  {
   "cell_type": "markdown",
   "metadata": {},
   "source": [
    "Практическая работа №5\n",
    "Скачивание видеофайла с Ютуб\n",
    "Болотов М.В. АСУ4-22-1м"
   ]
  },
  {
   "cell_type": "code",
   "execution_count": 4,
   "metadata": {},
   "outputs": [
    {
     "name": "stdout",
     "output_type": "stream",
     "text": [
      "Видео скачано\n"
     ]
    }
   ],
   "source": [
    "from pytube import YouTube\n",
    "\n",
    "video_url = \"https://www.youtube.com/watch?v=wJ1hIyL-Icg\"      # Ссылка на видео Ютуб\n",
    "\n",
    "yt = YouTube(video_url)                                        # Объект YouTube\n",
    "\n",
    "video_stream = yt.streams.get_highest_resolution()             # Высокое разрешение\n",
    "\n",
    "save_path = r\"C:\\Users\\79125\\OneDrive\\Рабочий стол\\Учёба ПНИПУ АСУ\\3 семестр\\Интеллектуальный анализ Web данных\\5pr\"    # Путь для сохранения видео\n",
    "\n",
    "video_stream.download(output_path=save_path)                   # Скачать видео\n",
    "\n",
    "print(\"Видео скачано\")"
   ]
  },
  {
   "cell_type": "code",
   "execution_count": null,
   "metadata": {},
   "outputs": [],
   "source": []
  }
 ],
 "metadata": {
  "kernelspec": {
   "display_name": "Python 3",
   "language": "python",
   "name": "python3"
  },
  "language_info": {
   "codemirror_mode": {
    "name": "ipython",
    "version": 3
   },
   "file_extension": ".py",
   "mimetype": "text/x-python",
   "name": "python",
   "nbconvert_exporter": "python",
   "pygments_lexer": "ipython3",
   "version": "3.10.7"
  }
 },
 "nbformat": 4,
 "nbformat_minor": 2
}
