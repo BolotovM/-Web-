{
 "cells": [
  {
   "cell_type": "markdown",
   "metadata": {},
   "source": [
    "Практическая работа №5\n",
    "Скачивание видеофайла с Реддит\n",
    "Болотов М.В. АСУ4-22-1м"
   ]
  },
  {
   "cell_type": "code",
   "execution_count": 2,
   "metadata": {},
   "outputs": [
    {
     "name": "stdout",
     "output_type": "stream",
     "text": [
      "[generic] m2-res_480p.mp4?m=DASHPlaylist: Requesting header\n",
      "[download] Destination: m2-res_480p-m2-res_480p.mp4m=DASHPlaylist.mp4\n",
      "[download] 100% of 2.12MiB in 00:09                  \n"
     ]
    }
   ],
   "source": [
    "import youtube_dl\n",
    "\n",
    "video_url = 'https://packaged-media.redd.it/9kr7fm5k16eb1/pb/m2-res_480p.mp4?m=DASHPlaylist.mpd&v=1&e=1690448400&s=a56139280f0853d7bf356fe10e02cf0da081ba56#t=0'   # URL видео на Reddit\n",
    "\n",
    "ydl_opts = {                                                    # Опции для youtube-dl Лучший формат\n",
    "    'format': 'best',\n",
    "}\n",
    "\n",
    "with youtube_dl.YoutubeDL(ydl_opts) as ydl:                     # Метод для скачивания, принимает все URL\n",
    "    ydl.download([video_url])"
   ]
  },
  {
   "cell_type": "code",
   "execution_count": null,
   "metadata": {},
   "outputs": [],
   "source": []
  }
 ],
 "metadata": {
  "kernelspec": {
   "display_name": "Python 3",
   "language": "python",
   "name": "python3"
  },
  "language_info": {
   "codemirror_mode": {
    "name": "ipython",
    "version": 3
   },
   "file_extension": ".py",
   "mimetype": "text/x-python",
   "name": "python",
   "nbconvert_exporter": "python",
   "pygments_lexer": "ipython3",
   "version": "3.10.7"
  }
 },
 "nbformat": 4,
 "nbformat_minor": 2
}
