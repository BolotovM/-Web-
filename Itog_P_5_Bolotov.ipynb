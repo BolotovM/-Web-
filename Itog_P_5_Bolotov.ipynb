{
 "cells": [
  {
   "cell_type": "markdown",
   "metadata": {},
   "source": [
    "Практическая работа №5\n",
    "Функции для скачивания видеофайлов\n",
    "Болотов М.В. АСУ4-22-1м"
   ]
  },
  {
   "cell_type": "code",
   "execution_count": null,
   "metadata": {},
   "outputs": [],
   "source": [
    "#  #  # Реддит \n",
    "import youtube_dl\n",
    "\n",
    "video_url = 'https://packaged-media.redd.it/9kr7fm5k16eb1/pb/m2-res_480p.mp4?m=DASHPlaylist.mpd&v=1&e=1690448400&s=a56139280f0853d7bf356fe10e02cf0da081ba56#t=0'   # URL видео на Reddit\n",
    "\n",
    "ydl_opts = {                                                    # Опции для youtube-dl Лучший формат\n",
    "    'format': 'best',\n",
    "}\n",
    "\n",
    "with youtube_dl.YoutubeDL(ydl_opts) as ydl:                     # Метод для скачивания, принимает все URL\n",
    "    ydl.download([video_url])"
   ]
  },
  {
   "cell_type": "code",
   "execution_count": null,
   "metadata": {},
   "outputs": [],
   "source": [
    "#  #  # Ютуб\n",
    "from pytube import YouTube\n",
    "\n",
    "video_url = \"https://www.youtube.com/watch?v=wJ1hIyL-Icg\"      # Ссылка на видео Ютуб\n",
    "\n",
    "yt = YouTube(video_url)                                        # Объект YouTube\n",
    "\n",
    "video_stream = yt.streams.get_highest_resolution()             # Высокое разрешение\n",
    "\n",
    "save_path = r\"C:\\Users\\79125\\OneDrive\\Рабочий стол\\Учёба ПНИПУ АСУ\\3 семестр\\Интеллектуальный анализ Web данных\\5pr\"    # Путь для сохранения видео\n",
    "\n",
    "video_stream.download(output_path=save_path)                   # Скачать видео\n",
    "\n",
    "print(\"Видео скачано\")"
   ]
  },
  {
   "cell_type": "markdown",
   "metadata": {},
   "source": [
    "Функции:"
   ]
  },
  {
   "cell_type": "code",
   "execution_count": null,
   "metadata": {},
   "outputs": [],
   "source": [
    "import youtube_dl\n",
    "\n",
    "def reddit(video_url):\n",
    "    ydl_opts = {\n",
    "        'format': 'best',\n",
    "    }\n",
    "\n",
    "    with youtube_dl.YoutubeDL(ydl_opts) as ydl:\n",
    "        ydl.download([video_url])\n",
    "    print(\"Видео скачано, Аарон одобряет\")\n",
    "\n",
    "# Чтобы скачать видео с Reddit, введите ссылку вместо переменной video_url и вызовите функцию:\n",
    "video_url = 'https://packaged-media.redd.it/9kr7fm5k16eb1/pb/m2-res_480p.mp4?m=DASHPlaylist.mpd&v=1&e=1690448400&s=a56139280f0853d7bf356fe10e02cf0da081ba56#t=0'\n",
    "reddit(video_url)"
   ]
  },
  {
   "cell_type": "code",
   "execution_count": 1,
   "metadata": {},
   "outputs": [
    {
     "name": "stdout",
     "output_type": "stream",
     "text": [
      "Видео скачано\n"
     ]
    }
   ],
   "source": [
    "from pytube import YouTube\n",
    "\n",
    "def download_youtube_video(video_url, save_path):\n",
    "    try:\n",
    "        yt = YouTube(video_url)\n",
    "        video_stream = yt.streams.get_highest_resolution()\n",
    "        video_stream.download(output_path=save_path)\n",
    "        print(\"Видео скачано\")\n",
    "    except Exception as e:\n",
    "        print(\"Ошибка при скачивании видео:\", str(e))\n",
    "\n",
    "# Чтобы скачть видео с Ютуб необходимо ввести ссылку вместо переменной видео юрл, ввести путь к папке в которую необходимо скачать файл в переменную путь сохранения и вызвать функцию:\n",
    "video_url = \"https://www.youtube.com/watch?v=wJ1hIyL-Icg\"\n",
    "save_path = r\"C:\\Users\\79125\\OneDrive\\Рабочий стол\\Учёба ПНИПУ АСУ\\3 семестр\\Интеллектуальный анализ Web данных\\5pr\"\n",
    "download_youtube_video(video_url, save_path)"
   ]
  }
 ],
 "metadata": {
  "kernelspec": {
   "display_name": "Python 3",
   "language": "python",
   "name": "python3"
  },
  "language_info": {
   "codemirror_mode": {
    "name": "ipython",
    "version": 3
   },
   "file_extension": ".py",
   "mimetype": "text/x-python",
   "name": "python",
   "nbconvert_exporter": "python",
   "pygments_lexer": "ipython3",
   "version": "3.10.7"
  }
 },
 "nbformat": 4,
 "nbformat_minor": 2
}
