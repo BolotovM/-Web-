{
 "cells": [
  {
   "cell_type": "code",
   "execution_count": 1,
   "metadata": {},
   "outputs": [],
   "source": [
    "import pandas as pd                # Для работы с данными в виде DataFrame\n",
    "from comcrawl import IndexClient   # Для доступа к данным Comcrawl"
   ]
  },
  {
   "cell_type": "code",
   "execution_count": 2,
   "metadata": {},
   "outputs": [],
   "source": [
    "client = IndexClient()                 # Создание клиента Comcrawl для доступа к данным\n",
    "\n",
    "query = \"кафедра ИТАС Пермь\"           # Задание поискового запроса \"кафедра ИТАС Пермь\"\n",
    "search_results = client.search(query)  # Результаты поиска"
   ]
  },
  {
   "cell_type": "code",
   "execution_count": 3,
   "metadata": {},
   "outputs": [
    {
     "name": "stdout",
     "output_type": "stream",
     "text": [
      "Результаты поиска не найдены.\n"
     ]
    }
   ],
   "source": [
    "if search_results is not None:\n",
    "    perm_domains = [\"perm.ru\", \"perm.gov.ru\", \"permstate.ru\", \"perm24.ru\", \"pstu.ru\"] # Определение доменов Перми (сомнительно)\n",
    "\n",
    "    results_list = []                                                                 # Создание списка для хранения текстов и URL-адресов веб-ресурсов\n",
    "\n",
    "    max_results = 10                                                                  # Ограничение количества результатов\n",
    "    result_count = 10\n",
    "\n",
    "    for result in search_results:                                                     # Итерации по результатам      \n",
    "        url = result.url\n",
    "        if any(domain in url for domain in perm_domains):                             # Проверка содержания домена\n",
    "            text = result.text\n",
    "            results_list.append((url, text))\n",
    "            result_count += 1\n",
    "            if result_count >= max_results:                                           # Проверка максимального колличества (хотел ограничить чтобы не ждать час пока проверяются все сайты)                                   \n",
    "                break\n",
    "\n",
    "    df = pd.DataFrame(results_list, columns=['URL-адрес', 'Текст'])                   # Датафрейм для визуализации данных\n",
    "\n",
    "    pd.set_option('display.max_colwidth', None)                                       # Для отображения всего текста в столбце\n",
    "    print(df)\n",
    "else:\n",
    "    print(\"Результаты поиска не найдены.\")"
   ]
  },
  {
   "cell_type": "code",
   "execution_count": null,
   "metadata": {},
   "outputs": [],
   "source": []
  }
 ],
 "metadata": {
  "kernelspec": {
   "display_name": "Python 3",
   "language": "python",
   "name": "python3"
  },
  "language_info": {
   "codemirror_mode": {
    "name": "ipython",
    "version": 3
   },
   "file_extension": ".py",
   "mimetype": "text/x-python",
   "name": "python",
   "nbconvert_exporter": "python",
   "pygments_lexer": "ipython3",
   "version": "3.10.7"
  },
  "orig_nbformat": 4
 },
 "nbformat": 4,
 "nbformat_minor": 2
}
