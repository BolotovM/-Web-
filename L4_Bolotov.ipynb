{
 "cells": [
  {
   "cell_type": "markdown",
   "metadata": {},
   "source": [
    "Лабораторная работа №4\n",
    "Импорт и архивирование изображений веб страницы\n",
    "Болотов М.В. АСУ4-22-1м"
   ]
  },
  {
   "cell_type": "code",
   "execution_count": 1,
   "metadata": {},
   "outputs": [],
   "source": [
    "import os                                                     # Импорт необходимых библиотек   \n",
    "import uuid\n",
    "import zipfile\n",
    "import requests                            \n",
    "from bs4 import BeautifulSoup\n",
    "from datetime import datetime"
   ]
  },
  {
   "cell_type": "code",
   "execution_count": 2,
   "metadata": {},
   "outputs": [],
   "source": [
    "def clean_filename(filename):                                 # Определение функции которая принимает на вход строку и заменяет все символы, которые не являются буквами, цифрами, точками, подчёркиваниями или дефисами, на подчёркивания\n",
    "    return \"\".join(c if c.isalnum() or c in ('.', '_', '-') else '_' for c in filename)"
   ]
  },
  {
   "cell_type": "code",
   "execution_count": 3,
   "metadata": {},
   "outputs": [],
   "source": [
    "def GetWebPageByLink(url, output_folder=None):                # Проверка существования указанной папки output_folder и, если она не существует, создание новая\n",
    "    if output_folder is None:\n",
    "        output_folder = datetime.now().strftime(\"%Y-%m-%d - %H-%M\")\n",
    "\n",
    "    if not os.path.exists(output_folder):\n",
    "        os.makedirs(output_folder)\n",
    "\n",
    "    response = requests.get(url)                              # HTTP-запрос к указанному URL (если нет - нет)\n",
    "    if not response.ok:\n",
    "        return None\n",
    "\n",
    "    soup = BeautifulSoup(response.text, \"html.parser\")        # Загрузка HTML-страницы и создание объекта soup, который позволяет парсить содержимое страницы\n",
    "    zip_image_unsplash = os.path.join(output_folder, \"downloaded_images_unsplash.zip\")   # Путь к файлу ZIP-архива внутри указанной output_folder.\n",
    "\n",
    "    with zipfile.ZipFile(zip_image_unsplash, 'w') as zipf:          # Создание объекта ZIP-архива для записи ('w' означает режим записи)\n",
    "        for img in soup.find_all('img'):                      # Цикл переборки всех изображений (<img>) на странице, и из каждого извлекается атрибут src, содержащий URL изображения\n",
    "            img_url = img.get(\"src\")\n",
    "            if img_url and not img_url.startswith(\"data:image\"):                   # Проверка, что img_url не пустой и что это не \"data URL\", который начинается с \"data:image\".\n",
    "                img_data = requests.get(img_url).content                           # HTTP-запрос для загрузки содержимого изображения\n",
    "                img_filename = clean_filename(os.path.basename(img_url))\n",
    "                img_filepath = os.path.join(output_folder, img_filename)\n",
    "                with open(img_filepath, \"wb\") as img_file:                         # Файл который будет использоваться для сохранения содержимого изображения\n",
    "                    img_file.write(img_data)                                       # Запись данных в файл\n",
    "                zipf.write(img_filepath, os.path.basename(img_filepath))           # Сохранение в зип архив.\n",
    "\n",
    "    return zip_image_unsplash"
   ]
  },
  {
   "cell_type": "code",
   "execution_count": 4,
   "metadata": {},
   "outputs": [
    {
     "name": "stderr",
     "output_type": "stream",
     "text": [
      "c:\\Users\\79125\\AppData\\Local\\Programs\\Python\\Python310\\lib\\zipfile.py:1517: UserWarning: Duplicate name: 'profile-1679489218992-ebe823c797dfimage_auto_format_fit_crop_w_32_h_32_q_60_crop_faces_bg_fff'\n",
      "  return self._open_to_write(zinfo, force_zip64=force_zip64)\n",
      "c:\\Users\\79125\\AppData\\Local\\Programs\\Python\\Python310\\lib\\zipfile.py:1517: UserWarning: Duplicate name: 'photo-1682695795255-b236b1f1267d_ixlib_rb-4.0.3_ixid_M3wxMjA3fDF8MHxlZGl0b3JpYWwtZmVlZHwxfHx8ZW58MHx8fHx8_w_1000_q_80'\n",
      "  return self._open_to_write(zinfo, force_zip64=force_zip64)\n",
      "c:\\Users\\79125\\AppData\\Local\\Programs\\Python\\Python310\\lib\\zipfile.py:1517: UserWarning: Duplicate name: 'photo-1697222691126-c1be7bde3ac5_ixlib_rb-4.0.3_ixid_M3wxMjA3fDB8MHxlZGl0b3JpYWwtZmVlZHwzfHx8ZW58MHx8fHx8_w_1000_q_80'\n",
      "  return self._open_to_write(zinfo, force_zip64=force_zip64)\n",
      "c:\\Users\\79125\\AppData\\Local\\Programs\\Python\\Python310\\lib\\zipfile.py:1517: UserWarning: Duplicate name: 'photo-1693132038772-7ad13c7bad9a_ixlib_rb-4.0.3_ixid_M3wxMjA3fDB8MHxlZGl0b3JpYWwtZmVlZHw1fHx8ZW58MHx8fHx8_w_1000_q_80'\n",
      "  return self._open_to_write(zinfo, force_zip64=force_zip64)\n",
      "c:\\Users\\79125\\AppData\\Local\\Programs\\Python\\Python310\\lib\\zipfile.py:1517: UserWarning: Duplicate name: 'premium_photo-1696863122595-f980e13edf88_ixlib_rb-4.0.3_ixid_M3wxMjA3fDB8MHxlZGl0b3JpYWwtZmVlZHw3fHx8ZW58MHx8fHx8_w_1000_q_80'\n",
      "  return self._open_to_write(zinfo, force_zip64=force_zip64)\n",
      "c:\\Users\\79125\\AppData\\Local\\Programs\\Python\\Python310\\lib\\zipfile.py:1517: UserWarning: Duplicate name: 'photo-1696185137293-418bdf31a8d9_ixlib_rb-4.0.3_ixid_M3wxMjA3fDB8MHxlZGl0b3JpYWwtZmVlZHw5fHx8ZW58MHx8fHx8_w_1000_q_80'\n",
      "  return self._open_to_write(zinfo, force_zip64=force_zip64)\n",
      "c:\\Users\\79125\\AppData\\Local\\Programs\\Python\\Python310\\lib\\zipfile.py:1517: UserWarning: Duplicate name: 'photo-1683009427598-9c21a169f98f_ixlib_rb-4.0.3_ixid_M3wxMjA3fDF8MHxlZGl0b3JpYWwtZmVlZHwxMXx8fGVufDB8fHx8fA_3D_3D_w_1000_q_80'\n",
      "  return self._open_to_write(zinfo, force_zip64=force_zip64)\n",
      "c:\\Users\\79125\\AppData\\Local\\Programs\\Python\\Python310\\lib\\zipfile.py:1517: UserWarning: Duplicate name: 'premium_photo-1694425775169-9e53ffab71f6_ixlib_rb-4.0.3_ixid_M3wxMjA3fDB8MHxlZGl0b3JpYWwtZmVlZHwxMnx8fGVufDB8fHx8fA_3D_3D_w_1000_q_80'\n",
      "  return self._open_to_write(zinfo, force_zip64=force_zip64)\n",
      "c:\\Users\\79125\\AppData\\Local\\Programs\\Python\\Python310\\lib\\zipfile.py:1517: UserWarning: Duplicate name: 'photo-1697247079184-efb23487a172_ixlib_rb-4.0.3_ixid_M3wxMjA3fDB8MHxlZGl0b3JpYWwtZmVlZHwxNHx8fGVufDB8fHx8fA_3D_3D_w_1000_q_80'\n",
      "  return self._open_to_write(zinfo, force_zip64=force_zip64)\n",
      "c:\\Users\\79125\\AppData\\Local\\Programs\\Python\\Python310\\lib\\zipfile.py:1517: UserWarning: Duplicate name: 'photo-1696942916304-7908f9cd5f2c_ixlib_rb-4.0.3_ixid_M3wxMjA3fDB8MHxlZGl0b3JpYWwtZmVlZHwxNXx8fGVufDB8fHx8fA_3D_3D_w_1000_q_80'\n",
      "  return self._open_to_write(zinfo, force_zip64=force_zip64)\n",
      "c:\\Users\\79125\\AppData\\Local\\Programs\\Python\\Python310\\lib\\zipfile.py:1517: UserWarning: Duplicate name: 'photo-1696231951105-02208e8bafad_ixlib_rb-4.0.3_ixid_M3wxMjA3fDB8MHxlZGl0b3JpYWwtZmVlZHwxOHx8fGVufDB8fHx8fA_3D_3D_w_1000_q_80'\n",
      "  return self._open_to_write(zinfo, force_zip64=force_zip64)\n",
      "c:\\Users\\79125\\AppData\\Local\\Programs\\Python\\Python310\\lib\\zipfile.py:1517: UserWarning: Duplicate name: 'photo-1696028354825-030af18644ef_ixlib_rb-4.0.3_ixid_M3wxMjA3fDB8MHxlZGl0b3JpYWwtZmVlZHwxOXx8fGVufDB8fHx8fA_3D_3D_w_1000_q_80'\n",
      "  return self._open_to_write(zinfo, force_zip64=force_zip64)\n",
      "c:\\Users\\79125\\AppData\\Local\\Programs\\Python\\Python310\\lib\\zipfile.py:1517: UserWarning: Duplicate name: 'photo-1683009427513-28e163402d16_ixlib_rb-4.0.3_ixid_M3wxMjA3fDF8MHxlZGl0b3JpYWwtZmVlZHwyMXx8fGVufDB8fHx8fA_3D_3D_w_1000_q_80'\n",
      "  return self._open_to_write(zinfo, force_zip64=force_zip64)\n",
      "c:\\Users\\79125\\AppData\\Local\\Programs\\Python\\Python310\\lib\\zipfile.py:1517: UserWarning: Duplicate name: 'photo-1695146738374-ffa71437c451_ixlib_rb-4.0.3_ixid_M3wxMjA3fDB8MHxlZGl0b3JpYWwtZmVlZHwyM3x8fGVufDB8fHx8fA_3D_3D_w_1000_q_80'\n",
      "  return self._open_to_write(zinfo, force_zip64=force_zip64)\n",
      "c:\\Users\\79125\\AppData\\Local\\Programs\\Python\\Python310\\lib\\zipfile.py:1517: UserWarning: Duplicate name: 'photo-1695032554007-eecd84cb83e0_ixlib_rb-4.0.3_ixid_M3wxMjA3fDB8MHxlZGl0b3JpYWwtZmVlZHwyNHx8fGVufDB8fHx8fA_3D_3D_w_1000_q_80'\n",
      "  return self._open_to_write(zinfo, force_zip64=force_zip64)\n",
      "c:\\Users\\79125\\AppData\\Local\\Programs\\Python\\Python310\\lib\\zipfile.py:1517: UserWarning: Duplicate name: 'premium_photo-1694467832488-9bc48ff8d112_ixlib_rb-4.0.3_ixid_M3wxMjA3fDB8MHxlZGl0b3JpYWwtZmVlZHwyfHx8ZW58MHx8fHx8_w_1000_q_80'\n",
      "  return self._open_to_write(zinfo, force_zip64=force_zip64)\n",
      "c:\\Users\\79125\\AppData\\Local\\Programs\\Python\\Python310\\lib\\zipfile.py:1517: UserWarning: Duplicate name: 'photo-1696233820406-982dec3540cd_ixlib_rb-4.0.3_ixid_M3wxMjA3fDB8MHxlZGl0b3JpYWwtZmVlZHw0fHx8ZW58MHx8fHx8_w_1000_q_80'\n",
      "  return self._open_to_write(zinfo, force_zip64=force_zip64)\n",
      "c:\\Users\\79125\\AppData\\Local\\Programs\\Python\\Python310\\lib\\zipfile.py:1517: UserWarning: Duplicate name: 'photo-1682686578289-cf9c8c472c9b_ixlib_rb-4.0.3_ixid_M3wxMjA3fDF8MHxlZGl0b3JpYWwtZmVlZHw2fHx8ZW58MHx8fHx8_w_1000_q_80'\n",
      "  return self._open_to_write(zinfo, force_zip64=force_zip64)\n",
      "c:\\Users\\79125\\AppData\\Local\\Programs\\Python\\Python310\\lib\\zipfile.py:1517: UserWarning: Duplicate name: 'photo-1696418001896-272e1bb8bf23_ixlib_rb-4.0.3_ixid_M3wxMjA3fDB8MHxlZGl0b3JpYWwtZmVlZHw4fHx8ZW58MHx8fHx8_w_1000_q_80'\n",
      "  return self._open_to_write(zinfo, force_zip64=force_zip64)\n",
      "c:\\Users\\79125\\AppData\\Local\\Programs\\Python\\Python310\\lib\\zipfile.py:1517: UserWarning: Duplicate name: 'photo-1697275021816-42588f48ef7a_ixlib_rb-4.0.3_ixid_M3wxMjA3fDB8MHxlZGl0b3JpYWwtZmVlZHwxMHx8fGVufDB8fHx8fA_3D_3D_w_1000_q_80'\n",
      "  return self._open_to_write(zinfo, force_zip64=force_zip64)\n",
      "c:\\Users\\79125\\AppData\\Local\\Programs\\Python\\Python310\\lib\\zipfile.py:1517: UserWarning: Duplicate name: 'photo-1697222750299-602d54d004b3_ixlib_rb-4.0.3_ixid_M3wxMjA3fDB8MHxlZGl0b3JpYWwtZmVlZHwxM3x8fGVufDB8fHx8fA_3D_3D_w_1000_q_80'\n",
      "  return self._open_to_write(zinfo, force_zip64=force_zip64)\n",
      "c:\\Users\\79125\\AppData\\Local\\Programs\\Python\\Python310\\lib\\zipfile.py:1517: UserWarning: Duplicate name: 'photo-1682687982049-b3d433368cd1_ixlib_rb-4.0.3_ixid_M3wxMjA3fDF8MHxlZGl0b3JpYWwtZmVlZHwxNnx8fGVufDB8fHx8fA_3D_3D_w_1000_q_80'\n",
      "  return self._open_to_write(zinfo, force_zip64=force_zip64)\n",
      "c:\\Users\\79125\\AppData\\Local\\Programs\\Python\\Python310\\lib\\zipfile.py:1517: UserWarning: Duplicate name: 'premium_photo-1676564930353-168988dce9a4_ixlib_rb-4.0.3_ixid_M3wxMjA3fDB8MHxlZGl0b3JpYWwtZmVlZHwxN3x8fGVufDB8fHx8fA_3D_3D_w_1000_q_80'\n",
      "  return self._open_to_write(zinfo, force_zip64=force_zip64)\n",
      "c:\\Users\\79125\\AppData\\Local\\Programs\\Python\\Python310\\lib\\zipfile.py:1517: UserWarning: Duplicate name: 'photo-1695664551266-ccbe1b2d9285_ixlib_rb-4.0.3_ixid_M3wxMjA3fDB8MHxlZGl0b3JpYWwtZmVlZHwyMHx8fGVufDB8fHx8fA_3D_3D_w_1000_q_80'\n",
      "  return self._open_to_write(zinfo, force_zip64=force_zip64)\n",
      "c:\\Users\\79125\\AppData\\Local\\Programs\\Python\\Python310\\lib\\zipfile.py:1517: UserWarning: Duplicate name: 'premium_photo-1673816567639-c8f747c1a11b_ixlib_rb-4.0.3_ixid_M3wxMjA3fDB8MHxlZGl0b3JpYWwtZmVlZHwyMnx8fGVufDB8fHx8fA_3D_3D_w_1000_q_80'\n",
      "  return self._open_to_write(zinfo, force_zip64=force_zip64)\n",
      "c:\\Users\\79125\\AppData\\Local\\Programs\\Python\\Python310\\lib\\zipfile.py:1517: UserWarning: Duplicate name: '1pixel.gif'\n",
      "  return self._open_to_write(zinfo, force_zip64=force_zip64)\n"
     ]
    },
    {
     "name": "stdout",
     "output_type": "stream",
     "text": [
      "ZIP file with downloaded images saved to: C:\\Users\\79125\\OneDrive\\Рабочий стол\\Учёба ПНИПУ АСУ\\3 семестр\\Интеллектуальный анализ Web данных\\картинки с unsplash\\downloaded_images_unsplash.zip\n"
     ]
    }
   ],
   "source": [
    "def main():                                                                        # Функция загрузки и сохранения картинок в зип архив в указанной папке\n",
    "    url = \"https://unsplash.com/\"                                                  # URL для импорта картинок\n",
    "    output_folder = r\"C:\\Users\\79125\\OneDrive\\Рабочий стол\\Учёба ПНИПУ АСУ\\3 семестр\\Интеллектуальный анализ Web данных\\картинки с unsplash\" # Папка для картинок\n",
    "    zip_image_unsplash = GetWebPageByLink(url, output_folder)                      # Загрузка и сохранение картинок\n",
    "    if zip_image_unsplash:                                                         # Проверка создания архива\n",
    "        print(f\"ZIP file with downloaded images saved to: {zip_image_unsplash}\")\n",
    "\n",
    "if __name__ == \"__main__\":\n",
    "    main()"
   ]
  }
 ],
 "metadata": {
  "kernelspec": {
   "display_name": "Python 3",
   "language": "python",
   "name": "python3"
  },
  "language_info": {
   "codemirror_mode": {
    "name": "ipython",
    "version": 3
   },
   "file_extension": ".py",
   "mimetype": "text/x-python",
   "name": "python",
   "nbconvert_exporter": "python",
   "pygments_lexer": "ipython3",
   "version": "3.10.7"
  },
  "orig_nbformat": 4
 },
 "nbformat": 4,
 "nbformat_minor": 2
}
