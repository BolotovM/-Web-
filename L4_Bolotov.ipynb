{
 "cells": [
  {
   "cell_type": "markdown",
   "metadata": {},
   "source": [
    "Лабораторная работа №4\n",
    "Импорт и архивирование изображений веб страницы\n",
    "Болотов М.В. АСУ4-22-1м"
   ]
  },
  {
   "cell_type": "code",
   "execution_count": 5,
   "metadata": {},
   "outputs": [],
   "source": [
    "import os                                                     # Импорт необходимых библиотек   \n",
    "import uuid\n",
    "import zipfile\n",
    "import requests                            \n",
    "from bs4 import BeautifulSoup\n",
    "from datetime import datetime\n",
    "from PIL import Image                                         # Добавим библиотеку Pillow для работы с изображениями (формат в jpeg)"
   ]
  },
  {
   "cell_type": "code",
   "execution_count": 6,
   "metadata": {},
   "outputs": [],
   "source": [
    "def clean_filename(filename):                                 # Определение функции которая принимает на вход строку и заменяет все символы, которые не являются буквами, цифрами, точками, подчёркиваниями или дефисами, на подчёркивания\n",
    "    return \"\".join(c if c.isalnum() or c in ('.', '_', '-') else '_' for c in filename)"
   ]
  },
  {
   "cell_type": "code",
   "execution_count": 7,
   "metadata": {},
   "outputs": [],
   "source": [
    "def GetWebPageByLink(url, output_folder=None):                # Проверка существования указанной папки output_folder и, если она не существует, создание новая\n",
    "    if output_folder is None:\n",
    "        output_folder = datetime.now().strftime(\"%Y-%m-%d - %H-%M\")\n",
    "\n",
    "    if not os.path.exists(output_folder):\n",
    "        os.makedirs(output_folder)\n",
    "\n",
    "    response = requests.get(url)                              # HTTP-запрос к указанному URL (если нет - нет)\n",
    "    if not response.ok:\n",
    "        return None\n",
    "\n",
    "    soup = BeautifulSoup(response.text, \"html.parser\")        # Загрузка HTML-страницы и создание объекта soup, который позволяет парсить содержимое страницы\n",
    "    zip_image_unsplash = os.path.join(output_folder, \"downloaded_images_unsplash.zip\")   # Путь к файлу ZIP-архива внутри указанной output_folder.\n",
    "\n",
    "    with zipfile.ZipFile(zip_image_unsplash, 'w') as zipf:    # Создание объекта ZIP-архива для записи ('w' означает режим записи)\n",
    "        for img in soup.find_all('img'):                      # Цикл переборки всех изображений (<img>) на странице, и из каждого извлекается атрибут src, содержащий URL изображения\n",
    "            img_url = img.get(\"src\")\n",
    "            if img_url and not img_url.startswith(\"data:image\"):                   # Проверка, что img_url не пустой и что это не \"data URL\", который начинается с \"data:image\".\n",
    "                img_data = requests.get(img_url).content                           # HTTP-запрос для загрузки содержимого изображения\n",
    "                img_filename = clean_filename(os.path.basename(img_url)) + \".jpg\"  # Изменяем формат на на jpg\n",
    "                img_filepath = os.path.join(output_folder, img_filename)\n",
    "                with open(img_filepath, \"wb\") as img_file:                         # Файл который будет использоваться для сохранения содержимого изображения\n",
    "                    img_file.write(img_data)                                       # Запись данных в файл\n",
    "                with Image.open(img_filepath) as img:                              # Пересохраение картинки в формате джпг (пилоу)\n",
    "                    img.convert(\"RGB\").save(img_filepath, \"JPEG\")\n",
    "\n",
    "                zipf.write(img_filepath, os.path.basename(img_filepath))\n",
    "\n",
    "    return zip_image_unsplash"
   ]
  },
  {
   "cell_type": "code",
   "execution_count": 8,
   "metadata": {},
   "outputs": [
    {
     "name": "stderr",
     "output_type": "stream",
     "text": [
      "c:\\Users\\79125\\AppData\\Local\\Programs\\Python\\Python310\\lib\\site-packages\\PIL\\Image.py:959: UserWarning: Palette images with Transparency expressed in bytes should be converted to RGBA images\n",
      "  warnings.warn(\n",
      "c:\\Users\\79125\\AppData\\Local\\Programs\\Python\\Python310\\lib\\zipfile.py:1517: UserWarning: Duplicate name: 'profile-1679489218992-ebe823c797dfimage_bg_fff_crop_faces_h_32_w_32_auto_format_fit_crop_q_60_ixlib_rb-4.0.3.jpg'\n",
      "  return self._open_to_write(zinfo, force_zip64=force_zip64)\n",
      "c:\\Users\\79125\\AppData\\Local\\Programs\\Python\\Python310\\lib\\zipfile.py:1517: UserWarning: Duplicate name: 'photo-1682686578615-39549501dd08_q_80_w_1000_auto_format_fit_crop_ixlib_rb-4.0.3_ixid_M3wxMjA3fDF8MHxlZGl0b3JpYWwtZmVlZHwxfHx8ZW58MHx8fHx8.jpg'\n",
      "  return self._open_to_write(zinfo, force_zip64=force_zip64)\n",
      "c:\\Users\\79125\\AppData\\Local\\Programs\\Python\\Python310\\lib\\zipfile.py:1517: UserWarning: Duplicate name: 'premium_photo-1702056253394-4d1a360e0c15_q_80_w_1000_auto_format_fit_crop_ixlib_rb-4.0.3_ixid_M3wxMjA3fDB8MHxlZGl0b3JpYWwtZmVlZHwzfHx8ZW58MHx8fHx8.jpg'\n",
      "  return self._open_to_write(zinfo, force_zip64=force_zip64)\n",
      "c:\\Users\\79125\\AppData\\Local\\Programs\\Python\\Python310\\lib\\zipfile.py:1517: UserWarning: Duplicate name: 'photo-1700402849929-75271092edf0_q_80_w_1000_auto_format_fit_crop_ixlib_rb-4.0.3_ixid_M3wxMjA3fDB8MHxlZGl0b3JpYWwtZmVlZHw1fHx8ZW58MHx8fHx8.jpg'\n",
      "  return self._open_to_write(zinfo, force_zip64=force_zip64)\n",
      "c:\\Users\\79125\\AppData\\Local\\Programs\\Python\\Python310\\lib\\zipfile.py:1517: UserWarning: Duplicate name: 'photo-1683009686716-ac2096a5a73b_q_80_w_1000_auto_format_fit_crop_ixlib_rb-4.0.3_ixid_M3wxMjA3fDF8MHxlZGl0b3JpYWwtZmVlZHw2fHx8ZW58MHx8fHx8.jpg'\n",
      "  return self._open_to_write(zinfo, force_zip64=force_zip64)\n",
      "c:\\Users\\79125\\AppData\\Local\\Programs\\Python\\Python310\\lib\\zipfile.py:1517: UserWarning: Duplicate name: 'premium_photo-1700583711556-6ffa8fc324fe_q_80_w_1000_auto_format_fit_crop_ixlib_rb-4.0.3_ixid_M3wxMjA3fDB8MHxlZGl0b3JpYWwtZmVlZHw4fHx8ZW58MHx8fHx8.jpg'\n",
      "  return self._open_to_write(zinfo, force_zip64=force_zip64)\n",
      "c:\\Users\\79125\\AppData\\Local\\Programs\\Python\\Python310\\lib\\zipfile.py:1517: UserWarning: Duplicate name: 'photo-1542768846-4064a7293322_q_80_w_1000_auto_format_fit_crop_ixlib_rb-4.0.3_ixid_M3wxMjA3fDB8MHxlZGl0b3JpYWwtZmVlZHw5fHx8ZW58MHx8fHx8.jpg'\n",
      "  return self._open_to_write(zinfo, force_zip64=force_zip64)\n",
      "c:\\Users\\79125\\AppData\\Local\\Programs\\Python\\Python310\\lib\\zipfile.py:1517: UserWarning: Duplicate name: 'photo-1682695797221-8164ff1fafc9_q_80_w_1000_auto_format_fit_crop_ixlib_rb-4.0.3_ixid_M3wxMjA3fDF8MHxlZGl0b3JpYWwtZmVlZHwxMXx8fGVufDB8fHx8fA_3D_3D.jpg'\n",
      "  return self._open_to_write(zinfo, force_zip64=force_zip64)\n",
      "c:\\Users\\79125\\AppData\\Local\\Programs\\Python\\Python310\\lib\\zipfile.py:1517: UserWarning: Duplicate name: 'premium_photo-1697778136313-fd09626c2aac_q_80_w_1000_auto_format_fit_crop_ixlib_rb-4.0.3_ixid_M3wxMjA3fDB8MHxlZGl0b3JpYWwtZmVlZHwxM3x8fGVufDB8fHx8fA_3D_3D.jpg'\n",
      "  return self._open_to_write(zinfo, force_zip64=force_zip64)\n",
      "c:\\Users\\79125\\AppData\\Local\\Programs\\Python\\Python310\\lib\\zipfile.py:1517: UserWarning: Duplicate name: 'photo-1702573848697-9f21d2d74049_q_80_w_1000_auto_format_fit_crop_ixlib_rb-4.0.3_ixid_M3wxMjA3fDB8MHxlZGl0b3JpYWwtZmVlZHwxNHx8fGVufDB8fHx8fA_3D_3D.jpg'\n",
      "  return self._open_to_write(zinfo, force_zip64=force_zip64)\n",
      "c:\\Users\\79125\\AppData\\Local\\Programs\\Python\\Python310\\lib\\zipfile.py:1517: UserWarning: Duplicate name: 'photo-1683009427042-e094996f9780_q_80_w_1000_auto_format_fit_crop_ixlib_rb-4.0.3_ixid_M3wxMjA3fDF8MHxlZGl0b3JpYWwtZmVlZHwxNnx8fGVufDB8fHx8fA_3D_3D.jpg'\n",
      "  return self._open_to_write(zinfo, force_zip64=force_zip64)\n",
      "c:\\Users\\79125\\AppData\\Local\\Programs\\Python\\Python310\\lib\\zipfile.py:1517: UserWarning: Duplicate name: 'premium_photo-1700070725692-6a96052ffe9f_q_80_w_1000_auto_format_fit_crop_ixlib_rb-4.0.3_ixid_M3wxMjA3fDB8MHxlZGl0b3JpYWwtZmVlZHwxOHx8fGVufDB8fHx8fA_3D_3D.jpg'\n",
      "  return self._open_to_write(zinfo, force_zip64=force_zip64)\n",
      "c:\\Users\\79125\\AppData\\Local\\Programs\\Python\\Python310\\lib\\zipfile.py:1517: UserWarning: Duplicate name: 'photo-1702839935474-1b56d70590c2_q_80_w_1000_auto_format_fit_crop_ixlib_rb-4.0.3_ixid_M3wxMjA3fDB8MHxlZGl0b3JpYWwtZmVlZHwxOXx8fGVufDB8fHx8fA_3D_3D.jpg'\n",
      "  return self._open_to_write(zinfo, force_zip64=force_zip64)\n",
      "c:\\Users\\79125\\AppData\\Local\\Programs\\Python\\Python310\\lib\\zipfile.py:1517: UserWarning: Duplicate name: 'photo-1682685797406-97f364419b4a_q_80_w_1000_auto_format_fit_crop_ixlib_rb-4.0.3_ixid_M3wxMjA3fDF8MHxlZGl0b3JpYWwtZmVlZHwyMXx8fGVufDB8fHx8fA_3D_3D.jpg'\n",
      "  return self._open_to_write(zinfo, force_zip64=force_zip64)\n",
      "c:\\Users\\79125\\AppData\\Local\\Programs\\Python\\Python310\\lib\\zipfile.py:1517: UserWarning: Duplicate name: 'photo-1701730283089-4f76873104bc_q_80_w_1000_auto_format_fit_crop_ixlib_rb-4.0.3_ixid_M3wxMjA3fDB8MHxlZGl0b3JpYWwtZmVlZHwyMnx8fGVufDB8fHx8fA_3D_3D.jpg'\n",
      "  return self._open_to_write(zinfo, force_zip64=force_zip64)\n",
      "c:\\Users\\79125\\AppData\\Local\\Programs\\Python\\Python310\\lib\\zipfile.py:1517: UserWarning: Duplicate name: 'premium_photo-1661767355620-4b4d62029acc_q_80_w_1000_auto_format_fit_crop_ixlib_rb-4.0.3_ixid_M3wxMjA3fDB8MHxlZGl0b3JpYWwtZmVlZHwyNHx8fGVufDB8fHx8fA_3D_3D.jpg'\n",
      "  return self._open_to_write(zinfo, force_zip64=force_zip64)\n",
      "c:\\Users\\79125\\AppData\\Local\\Programs\\Python\\Python310\\lib\\zipfile.py:1517: UserWarning: Duplicate name: 'photo-1701220416944-2f37adf10686_q_80_w_1000_auto_format_fit_crop_ixlib_rb-4.0.3_ixid_M3wxMjA3fDB8MHxlZGl0b3JpYWwtZmVlZHwyfHx8ZW58MHx8fHx8.jpg'\n",
      "  return self._open_to_write(zinfo, force_zip64=force_zip64)\n",
      "c:\\Users\\79125\\AppData\\Local\\Programs\\Python\\Python310\\lib\\zipfile.py:1517: UserWarning: Duplicate name: 'photo-1700573941847-d42179081698_q_80_w_1000_auto_format_fit_crop_ixlib_rb-4.0.3_ixid_M3wxMjA3fDB8MHxlZGl0b3JpYWwtZmVlZHw0fHx8ZW58MHx8fHx8.jpg'\n",
      "  return self._open_to_write(zinfo, force_zip64=force_zip64)\n",
      "c:\\Users\\79125\\AppData\\Local\\Programs\\Python\\Python310\\lib\\zipfile.py:1517: UserWarning: Duplicate name: 'photo-1701111818123-7ffe68d8d49c_q_80_w_1000_auto_format_fit_crop_ixlib_rb-4.0.3_ixid_M3wxMjA3fDB8MHxlZGl0b3JpYWwtZmVlZHw3fHx8ZW58MHx8fHx8.jpg'\n",
      "  return self._open_to_write(zinfo, force_zip64=force_zip64)\n",
      "c:\\Users\\79125\\AppData\\Local\\Programs\\Python\\Python310\\lib\\zipfile.py:1517: UserWarning: Duplicate name: 'photo-1702581783857-412fa1eb043f_q_80_w_1000_auto_format_fit_crop_ixlib_rb-4.0.3_ixid_M3wxMjA3fDB8MHxlZGl0b3JpYWwtZmVlZHwxMHx8fGVufDB8fHx8fA_3D_3D.jpg'\n",
      "  return self._open_to_write(zinfo, force_zip64=force_zip64)\n",
      "c:\\Users\\79125\\AppData\\Local\\Programs\\Python\\Python310\\lib\\zipfile.py:1517: UserWarning: Duplicate name: 'photo-1699269266070-97882aaf9fec_q_80_w_1000_auto_format_fit_crop_ixlib_rb-4.0.3_ixid_M3wxMjA3fDB8MHxlZGl0b3JpYWwtZmVlZHwxMnx8fGVufDB8fHx8fA_3D_3D.jpg'\n",
      "  return self._open_to_write(zinfo, force_zip64=force_zip64)\n",
      "c:\\Users\\79125\\AppData\\Local\\Programs\\Python\\Python310\\lib\\zipfile.py:1517: UserWarning: Duplicate name: 'photo-1702651478488-523b6da9ec8e_q_80_w_1000_auto_format_fit_crop_ixlib_rb-4.0.3_ixid_M3wxMjA3fDB8MHxlZGl0b3JpYWwtZmVlZHwxNXx8fGVufDB8fHx8fA_3D_3D.jpg'\n",
      "  return self._open_to_write(zinfo, force_zip64=force_zip64)\n",
      "c:\\Users\\79125\\AppData\\Local\\Programs\\Python\\Python310\\lib\\zipfile.py:1517: UserWarning: Duplicate name: 'photo-1702882239346-15d2b5afd99e_q_80_w_1000_auto_format_fit_crop_ixlib_rb-4.0.3_ixid_M3wxMjA3fDB8MHxlZGl0b3JpYWwtZmVlZHwxN3x8fGVufDB8fHx8fA_3D_3D.jpg'\n",
      "  return self._open_to_write(zinfo, force_zip64=force_zip64)\n",
      "c:\\Users\\79125\\AppData\\Local\\Programs\\Python\\Python310\\lib\\zipfile.py:1517: UserWarning: Duplicate name: 'photo-1702750722257-6bc38db1267a_q_80_w_1000_auto_format_fit_crop_ixlib_rb-4.0.3_ixid_M3wxMjA3fDB8MHxlZGl0b3JpYWwtZmVlZHwyMHx8fGVufDB8fHx8fA_3D_3D.jpg'\n",
      "  return self._open_to_write(zinfo, force_zip64=force_zip64)\n",
      "c:\\Users\\79125\\AppData\\Local\\Programs\\Python\\Python310\\lib\\zipfile.py:1517: UserWarning: Duplicate name: 'photo-1702811083140-02bd169d06a4_q_80_w_1000_auto_format_fit_crop_ixlib_rb-4.0.3_ixid_M3wxMjA3fDB8MHxlZGl0b3JpYWwtZmVlZHwyM3x8fGVufDB8fHx8fA_3D_3D.jpg'\n",
      "  return self._open_to_write(zinfo, force_zip64=force_zip64)\n",
      "c:\\Users\\79125\\AppData\\Local\\Programs\\Python\\Python310\\lib\\zipfile.py:1517: UserWarning: Duplicate name: '1pixel.gif.jpg'\n",
      "  return self._open_to_write(zinfo, force_zip64=force_zip64)\n"
     ]
    },
    {
     "ename": "UnidentifiedImageError",
     "evalue": "cannot identify image file 'C:\\\\Users\\\\79125\\\\OneDrive\\\\Рабочий стол\\\\Учёба ПНИПУ АСУ\\\\3 семестр\\\\Интеллектуальный анализ Web данных\\\\картинки2\\\\m_ca_nlsn530690_cr_crtve_ce_nielsen_pc_nielsen_plc0001_ci_nlsnci2891_am_3_at_view_rt_banner_st_image_r_1702915472953.jpg'",
     "output_type": "error",
     "traceback": [
      "\u001b[1;31m---------------------------------------------------------------------------\u001b[0m",
      "\u001b[1;31mUnidentifiedImageError\u001b[0m                    Traceback (most recent call last)",
      "Cell \u001b[1;32mIn [8], line 9\u001b[0m\n\u001b[0;32m      6\u001b[0m         \u001b[38;5;28mprint\u001b[39m(\u001b[38;5;124mf\u001b[39m\u001b[38;5;124m\"\u001b[39m\u001b[38;5;124mZIP file with downloaded images saved to: \u001b[39m\u001b[38;5;132;01m{\u001b[39;00mzip_image_unsplash\u001b[38;5;132;01m}\u001b[39;00m\u001b[38;5;124m\"\u001b[39m)\n\u001b[0;32m      8\u001b[0m \u001b[38;5;28;01mif\u001b[39;00m \u001b[38;5;18m__name__\u001b[39m \u001b[38;5;241m==\u001b[39m \u001b[38;5;124m\"\u001b[39m\u001b[38;5;124m__main__\u001b[39m\u001b[38;5;124m\"\u001b[39m:\n\u001b[1;32m----> 9\u001b[0m     \u001b[43mmain\u001b[49m\u001b[43m(\u001b[49m\u001b[43m)\u001b[49m\n",
      "Cell \u001b[1;32mIn [8], line 4\u001b[0m, in \u001b[0;36mmain\u001b[1;34m()\u001b[0m\n\u001b[0;32m      2\u001b[0m url \u001b[38;5;241m=\u001b[39m \u001b[38;5;124m\"\u001b[39m\u001b[38;5;124mhttps://unsplash.com/\u001b[39m\u001b[38;5;124m\"\u001b[39m                                                  \u001b[38;5;66;03m# URL для импорта картинок\u001b[39;00m\n\u001b[0;32m      3\u001b[0m output_folder \u001b[38;5;241m=\u001b[39m \u001b[38;5;124mr\u001b[39m\u001b[38;5;124m\"\u001b[39m\u001b[38;5;124mC:\u001b[39m\u001b[38;5;124m\\\u001b[39m\u001b[38;5;124mUsers\u001b[39m\u001b[38;5;124m\\\u001b[39m\u001b[38;5;124m79125\u001b[39m\u001b[38;5;124m\\\u001b[39m\u001b[38;5;124mOneDrive\u001b[39m\u001b[38;5;124m\\\u001b[39m\u001b[38;5;124mРабочий стол\u001b[39m\u001b[38;5;124m\\\u001b[39m\u001b[38;5;124mУчёба ПНИПУ АСУ\u001b[39m\u001b[38;5;124m\\\u001b[39m\u001b[38;5;124m3 семестр\u001b[39m\u001b[38;5;124m\\\u001b[39m\u001b[38;5;124mИнтеллектуальный анализ Web данных\u001b[39m\u001b[38;5;124m\\\u001b[39m\u001b[38;5;124mкартинки2\u001b[39m\u001b[38;5;124m\"\u001b[39m \u001b[38;5;66;03m# Новая Папка для картинок\u001b[39;00m\n\u001b[1;32m----> 4\u001b[0m zip_image_unsplash \u001b[38;5;241m=\u001b[39m \u001b[43mGetWebPageByLink\u001b[49m\u001b[43m(\u001b[49m\u001b[43murl\u001b[49m\u001b[43m,\u001b[49m\u001b[43m \u001b[49m\u001b[43moutput_folder\u001b[49m\u001b[43m)\u001b[49m                      \u001b[38;5;66;03m# Загрузка и сохранение картинок\u001b[39;00m\n\u001b[0;32m      5\u001b[0m \u001b[38;5;28;01mif\u001b[39;00m zip_image_unsplash:                                                         \u001b[38;5;66;03m# Проверка создания архива\u001b[39;00m\n\u001b[0;32m      6\u001b[0m     \u001b[38;5;28mprint\u001b[39m(\u001b[38;5;124mf\u001b[39m\u001b[38;5;124m\"\u001b[39m\u001b[38;5;124mZIP file with downloaded images saved to: \u001b[39m\u001b[38;5;132;01m{\u001b[39;00mzip_image_unsplash\u001b[38;5;132;01m}\u001b[39;00m\u001b[38;5;124m\"\u001b[39m)\n",
      "Cell \u001b[1;32mIn [7], line 24\u001b[0m, in \u001b[0;36mGetWebPageByLink\u001b[1;34m(url, output_folder)\u001b[0m\n\u001b[0;32m     22\u001b[0m \u001b[38;5;28;01mwith\u001b[39;00m \u001b[38;5;28mopen\u001b[39m(img_filepath, \u001b[38;5;124m\"\u001b[39m\u001b[38;5;124mwb\u001b[39m\u001b[38;5;124m\"\u001b[39m) \u001b[38;5;28;01mas\u001b[39;00m img_file:                         \u001b[38;5;66;03m# Файл который будет использоваться для сохранения содержимого изображения\u001b[39;00m\n\u001b[0;32m     23\u001b[0m     img_file\u001b[38;5;241m.\u001b[39mwrite(img_data)                                       \u001b[38;5;66;03m# Запись данных в файл\u001b[39;00m\n\u001b[1;32m---> 24\u001b[0m \u001b[38;5;28;01mwith\u001b[39;00m \u001b[43mImage\u001b[49m\u001b[38;5;241;43m.\u001b[39;49m\u001b[43mopen\u001b[49m\u001b[43m(\u001b[49m\u001b[43mimg_filepath\u001b[49m\u001b[43m)\u001b[49m \u001b[38;5;28;01mas\u001b[39;00m img:                              \u001b[38;5;66;03m# Пересохраение картинки в формате джпг (пилоу)\u001b[39;00m\n\u001b[0;32m     25\u001b[0m     img\u001b[38;5;241m.\u001b[39mconvert(\u001b[38;5;124m\"\u001b[39m\u001b[38;5;124mRGB\u001b[39m\u001b[38;5;124m\"\u001b[39m)\u001b[38;5;241m.\u001b[39msave(img_filepath, \u001b[38;5;124m\"\u001b[39m\u001b[38;5;124mJPEG\u001b[39m\u001b[38;5;124m\"\u001b[39m)\n\u001b[0;32m     27\u001b[0m zipf\u001b[38;5;241m.\u001b[39mwrite(img_filepath, os\u001b[38;5;241m.\u001b[39mpath\u001b[38;5;241m.\u001b[39mbasename(img_filepath))\n",
      "File \u001b[1;32mc:\\Users\\79125\\AppData\\Local\\Programs\\Python\\Python310\\lib\\site-packages\\PIL\\Image.py:3147\u001b[0m, in \u001b[0;36mopen\u001b[1;34m(fp, mode, formats)\u001b[0m\n\u001b[0;32m   3145\u001b[0m \u001b[38;5;28;01mfor\u001b[39;00m message \u001b[38;5;129;01min\u001b[39;00m accept_warnings:\n\u001b[0;32m   3146\u001b[0m     warnings\u001b[38;5;241m.\u001b[39mwarn(message)\n\u001b[1;32m-> 3147\u001b[0m \u001b[38;5;28;01mraise\u001b[39;00m UnidentifiedImageError(\n\u001b[0;32m   3148\u001b[0m     \u001b[38;5;124m\"\u001b[39m\u001b[38;5;124mcannot identify image file \u001b[39m\u001b[38;5;132;01m%r\u001b[39;00m\u001b[38;5;124m\"\u001b[39m \u001b[38;5;241m%\u001b[39m (filename \u001b[38;5;28;01mif\u001b[39;00m filename \u001b[38;5;28;01melse\u001b[39;00m fp)\n\u001b[0;32m   3149\u001b[0m )\n",
      "\u001b[1;31mUnidentifiedImageError\u001b[0m: cannot identify image file 'C:\\\\Users\\\\79125\\\\OneDrive\\\\Рабочий стол\\\\Учёба ПНИПУ АСУ\\\\3 семестр\\\\Интеллектуальный анализ Web данных\\\\картинки2\\\\m_ca_nlsn530690_cr_crtve_ce_nielsen_pc_nielsen_plc0001_ci_nlsnci2891_am_3_at_view_rt_banner_st_image_r_1702915472953.jpg'"
     ]
    }
   ],
   "source": [
    "def main():                                                                        # Функция загрузки и сохранения картинок в зип архив в указанной папке\n",
    "    url = \"https://unsplash.com/\"                                                  # URL для импорта картинок\n",
    "    output_folder = r\"C:\\Users\\79125\\OneDrive\\Рабочий стол\\Учёба ПНИПУ АСУ\\3 семестр\\Интеллектуальный анализ Web данных\\картинки2\" # Новая Папка для картинок\n",
    "    zip_image_unsplash = GetWebPageByLink(url, output_folder)                      # Загрузка и сохранение картинок\n",
    "    if zip_image_unsplash:                                                         # Проверка создания архива\n",
    "        print(f\"ZIP file with downloaded images saved to: {zip_image_unsplash}\")\n",
    "\n",
    "if __name__ == \"__main__\":\n",
    "    main()"
   ]
  },
  {
   "cell_type": "code",
   "execution_count": null,
   "metadata": {},
   "outputs": [],
   "source": []
  }
 ],
 "metadata": {
  "kernelspec": {
   "display_name": "Python 3",
   "language": "python",
   "name": "python3"
  },
  "language_info": {
   "codemirror_mode": {
    "name": "ipython",
    "version": 3
   },
   "file_extension": ".py",
   "mimetype": "text/x-python",
   "name": "python",
   "nbconvert_exporter": "python",
   "pygments_lexer": "ipython3",
   "version": "3.10.7"
  },
  "orig_nbformat": 4
 },
 "nbformat": 4,
 "nbformat_minor": 2
}
