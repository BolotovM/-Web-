{
 "cells": [
  {
   "cell_type": "markdown",
   "metadata": {},
   "source": [
    "Итоговая работа\n",
    "Веб приложение для прогнозирования параметра влажности\n",
    "Болотов М.В. АСУ4-22-1м"
   ]
  },
  {
   "cell_type": "markdown",
   "metadata": {},
   "source": [
    "project_folder/\n",
    "├── static/\n",
    "│   └── forecast_plot.png\n",
    "├── templates/\n",
    "│   └── index.html\n",
    "├── Web_Bolotov.py\n",
    "└── indications.csv"
   ]
  },
  {
   "cell_type": "markdown",
   "metadata": {},
   "source": [
    "<! - -для шаблона index.html-->\n",
    "<!DOCTYPE html>\n",
    "<html lang=\"en\">\n",
    "<head>\n",
    "    <meta charset=\"UTF-8\">\n",
    "    <meta name=\"viewport\" content=\"width=device-width, initial-scale=1.0\">\n",
    "    <title>Прогноз влажности</title>\n",
    "</head>\n",
    "<body>\n",
    "    <h1>Прогноз влажности</h1>\n",
    "    <img src=\"{{ plot_url }}\" alt=\"Прогноз влажности\">\n",
    "</body>\n",
    "</html>"
   ]
  },
  {
   "cell_type": "code",
   "execution_count": 1,
   "metadata": {},
   "outputs": [],
   "source": [
    "import os                                                                                                       # Импорт необходимых библиотек\n",
    "import pandas as pd\n",
    "from datetime import timedelta\n",
    "import matplotlib.pyplot as plt\n",
    "from flask import Flask, render_template, url_for"
   ]
  },
  {
   "cell_type": "code",
   "execution_count": 2,
   "metadata": {},
   "outputs": [],
   "source": [
    "app = Flask(__name__)\n",
    "\n",
    "def forecasting():                                                                                              # Чтение данных из CSV-файла\n",
    "    indications = pd.read_csv(r\"C:\\Users\\79125\\OneDrive\\Рабочий стол\\Учёба ПНИПУ АСУ\\3 семестр\\Интеллектуальный анализ Web данных\\Итоговая\\indications.csv\", index_col='Time', parse_dates=True)\n",
    "\n",
    "    alpha = 0.2                                                                                                 # Параметр для экспоненциального сглаживания\n",
    "\n",
    "    exp_smoothing = [indications['#Indications'][0]]                                                            # Расчет экспоненциального сглаживания\n",
    "\n",
    "    for i in range(1, len(indications['#Indications'])):\n",
    "        exp_smoothing.append(alpha * indications['#Indications'][i] + (1 - alpha) * exp_smoothing[i - 1])\n",
    "\n",
    "    last_Time = indications.iloc[[-1]].index                                                                    # Генерация времени для следующего показания\n",
    "    last_Time = last_Time + timedelta(hours=1)\n",
    "\n",
    "    indications = indications.append(pd.DataFrame(index=last_Time))                                             # Добавление новой строки с предсказанием в данные\n",
    "    indications['Exp_smoothing'] = exp_smoothing\n",
    "    indications['Exp_smoothing'] = indications['Exp_smoothing'].shift(1)\n",
    "\n",
    "    plt.figure(figsize=(15, 8))                                                                                 # Создание графика\n",
    "    plt.plot(indications['#Indications'], label='Данные с датчика влажности', color='steelblue')\n",
    "    plt.plot(indications['Exp_smoothing'], label='Экспоненциальное сглаживание', color='orange')\n",
    "\n",
    "    plt.legend(title='', loc='upper left', fontsize=14)                                                         # Добавление легенды и сетки\n",
    "    plt.grid(True)\n",
    "\n",
    "    plt.ylabel('Влажность полотна', fontsize=14)                                                                # Настройка меток и заголовка\n",
    "    plt.xlabel('Время', fontsize=14)\n",
    "    plt.title('Показания влажности картонного полотна. Прогноз на следующее показание', fontsize=16)\n",
    "\n",
    "    plot_path = \"static/forecast_plot.png\"                                                                      # Сохранение графика в файл\n",
    "    plt.savefig(plot_path)\n",
    "    \n",
    "    return plot_path                                                                                            # Возвращаем путь к графику"
   ]
  },
  {
   "cell_type": "code",
   "execution_count": 3,
   "metadata": {},
   "outputs": [],
   "source": [
    "@app.route('/')\n",
    "def home():\n",
    "    plot_path = forecasting()                                                                                   # Получение пути к графику\n",
    "    return render_template('index.html', plot_url=plot_path)                                                    # Отрисовка HTML-шаблона и передача пути к графику в шаблон"
   ]
  },
  {
   "cell_type": "code",
   "execution_count": 4,
   "metadata": {},
   "outputs": [
    {
     "name": "stdout",
     "output_type": "stream",
     "text": [
      " * Serving Flask app '__main__'\n",
      " * Debug mode: on\n"
     ]
    },
    {
     "name": "stderr",
     "output_type": "stream",
     "text": [
      "WARNING: This is a development server. Do not use it in a production deployment. Use a production WSGI server instead.\n",
      " * Running on http://127.0.0.1:5000\n",
      "Press CTRL+C to quit\n"
     ]
    }
   ],
   "source": [
    "if __name__ == '__main__':\n",
    "    app.run(debug=True, use_reloader=False)                                                                                  # Запуск приложения в режиме отладки с отключением автоматической перезагрузки"
   ]
  }
 ],
 "metadata": {
  "kernelspec": {
   "display_name": "Python 3",
   "language": "python",
   "name": "python3"
  },
  "language_info": {
   "codemirror_mode": {
    "name": "ipython",
    "version": 3
   },
   "file_extension": ".py",
   "mimetype": "text/x-python",
   "name": "python",
   "nbconvert_exporter": "python",
   "pygments_lexer": "ipython3",
   "version": "3.10.7"
  }
 },
 "nbformat": 4,
 "nbformat_minor": 2
}
