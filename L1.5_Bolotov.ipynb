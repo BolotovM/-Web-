{
 "cells": [
  {
   "cell_type": "markdown",
   "metadata": {},
   "source": [
    "Лабораторная работа №1.5\n",
    "Взаимодействие с данными проектов Wikimedia через API\n",
    "Болотов М.В. АСУ4-22-1м "
   ]
  },
  {
   "cell_type": "code",
   "execution_count": 1,
   "metadata": {},
   "outputs": [],
   "source": [
    "import json\n",
    "import requests"
   ]
  },
  {
   "cell_type": "code",
   "execution_count": null,
   "metadata": {},
   "outputs": [],
   "source": [
    "api_key = '7f56c4c44a3dfa120ab8529b8d73e65f72ba3f62'            # Ключ API\n",
    "\n",
    "def fetch_wikimedia_data(query):                                # Базовый URL API MediaWiki\n",
    "    base_url = 'https://www.mediawiki.org/w/api.php'\n",
    "    params = {                                                  # Параметры для запроса к API\n",
    "        'action': 'query',\n",
    "        'format': 'json',                                       # Формат данных: JSON\n",
    "        'list': 'search',\n",
    "        'utf8': 1,\n",
    "        'srsearch': query,\n",
    "        'srlimit': 10,                                          # Максимальное количество результатов\n",
    "    }\n",
    "\n",
    "    headers = {                                                 # Заголовки HTTP-запроса\n",
    "        'User-MaxXKs': 'L_1.5/1.5 (m.bolotov2011@yandex.ru)'\n",
    "    }\n",
    "\n",
    "    response = requests.get(base_url, params=params, headers=headers)             # GET-запрос к API MediaWiki\n",
    "    data = response.json()                                                        # JSON-данные из ответа API\n",
    "\n",
    "    return data\n",
    "\n",
    "if __name__ == '__main__':\n",
    "    query = 'АСУТП'                                                               # \"Замените запрос на другой, к примеру: автоматизация производства\"\n",
    "    result = fetch_wikimedia_data(query)                                          # Вызываем функцию для выполнения запроса\n",
    "    with open('wikimedia_data.json', 'w', encoding='utf-8') as file:\n",
    "        json.dump(result, file, ensure_ascii=False, indent=4)"
   ]
  }
 ],
 "metadata": {
  "kernelspec": {
   "display_name": "Python 3",
   "language": "python",
   "name": "python3"
  },
  "language_info": {
   "codemirror_mode": {
    "name": "ipython",
    "version": 3
   },
   "file_extension": ".py",
   "mimetype": "text/x-python",
   "name": "python",
   "nbconvert_exporter": "python",
   "pygments_lexer": "ipython3",
   "version": "3.11.6"
  }
 },
 "nbformat": 4,
 "nbformat_minor": 2
}
