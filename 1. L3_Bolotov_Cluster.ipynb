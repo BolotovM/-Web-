{
 "cells": [
  {
   "cell_type": "markdown",
   "metadata": {},
   "source": [
    "Лабораторная работа №3\n",
    "Кластерный анализ Веб-данных\n",
    "Болотов М.В. АСУ4-22-1м"
   ]
  },
  {
   "cell_type": "code",
   "execution_count": 3,
   "metadata": {},
   "outputs": [],
   "source": [
    "import requests                                                     # Импорт необходимых библиотек\n",
    "import pandas as pd\n",
    "from textblob import TextBlob\n",
    "from bs4 import BeautifulSoup\n",
    "import matplotlib.pyplot as plt\n",
    "from sklearn.cluster import KMeans\n",
    "from sklearn.preprocessing import StandardScaler"
   ]
  },
  {
   "cell_type": "code",
   "execution_count": 4,
   "metadata": {},
   "outputs": [],
   "source": [
    "def get_mentions(search_query, num_results=10, location=\"Пермь\"):                                  # Функция для получения упоминаний (заголовков новостей) по заданному запросу и местоположению\n",
    "    base_url = \"https://www.google.com/search\"\n",
    "    params = {\n",
    "        \"q\": f\"{search_query} {location} site:perm.ru\",                                            # * Можно вставить любой город Пермского края и любой регион\n",
    "        \"num\": num_results,\n",
    "        \"tbm\": \"nws\",\n",
    "    }\n",
    "\n",
    "    response = requests.get(base_url, params=params)\n",
    "    soup = BeautifulSoup(response.text, \"html.parser\")\n",
    "\n",
    "    mentions = []\n",
    "\n",
    "    for result in soup.find_all(\"div\", class_=\"BNeawe vvjwJb AP7Wnd\"):\n",
    "        mentions.append(result.get_text())\n",
    "\n",
    "    return mentions\n",
    "\n",
    "def analyze_sentiment(text):                                                                        # Функция для анализа тональности текста при помощи TextBlob - работает неправильно (?)\n",
    "    blob = TextBlob(text)\n",
    "    sentiment_score = blob.sentiment.polarity\n",
    "    return sentiment_score\n",
    "\n",
    "def analyze_mentions_for_dishes(dishes, num_results=10):                                            # Функция для анализа упоминаний и тональности для списка блюд.\n",
    "    sentiments_summary = {\"Блюда\": [], \"Средняя тональность\": [], \"Количество упоминаний\": []}\n",
    "\n",
    "    for dish in dishes:\n",
    "        search_query = dish.strip()\n",
    "        mentions = get_mentions(search_query, num_results)\n",
    "        sentiments = []\n",
    "\n",
    "        for i, mention in enumerate(mentions, start=1):\n",
    "            sentiment_score = analyze_sentiment(mention)\n",
    "            sentiments.append(sentiment_score)\n",
    "\n",
    "        average_sentiment = sum(sentiments) / len(sentiments) if sentiments else 0\n",
    "\n",
    "        sentiments_summary[\"Блюда\"].append(search_query)\n",
    "        sentiments_summary[\"Средняя тональность\"].append(average_sentiment)\n",
    "        sentiments_summary[\"Количество упоминаний\"].append(len(sentiments))\n",
    "\n",
    "    return sentiments_summary"
   ]
  },
  {
   "cell_type": "code",
   "execution_count": 5,
   "metadata": {},
   "outputs": [
    {
     "name": "stdout",
     "output_type": "stream",
     "text": [
      "               Блюда  Средняя тональность  Количество упоминаний\n",
      "0              Блюдо                  0.0                      9\n",
      "1       Корниш пасти                  0.0                      0\n",
      "2   Утка по-пекински                  0.0                      0\n",
      "3    Циплята тандури                  0.0                      0\n",
      "4               Суши                  0.0                      9\n",
      "5           Фалафель                  0.0                      2\n",
      "6             Хаггис                  0.0                      0\n",
      "7             Паэлья                  0.0                      0\n",
      "8             Кимчхи                  0.0                      0\n",
      "9             Цезарь                  0.0                      7\n",
      "10             Пицца                  0.0                     10\n",
      "11              Борщ                  0.0                     10\n",
      "12          Пельмени                  0.0                      9\n"
     ]
    }
   ],
   "source": [
    "excel_file_path = r\"C:\\Users\\79125\\OneDrive\\Рабочий стол\\Учёба ПНИПУ АСУ\\3 семестр\\Интеллектуальный анализ Web данных\\ЛР3\\БЛЮДА.xlsx\"  # Чтение данных из Excel\n",
    "df = pd.read_excel(excel_file_path, header=None, names=['Блюда'])\n",
    "\n",
    "dishes = df['Блюда'].tolist()                                                                                                          # Извлечение списка блюд из второго столбца таблицы\n",
    "\n",
    "sentiments_summary = analyze_mentions_for_dishes(dishes)                                                                               # Проходим по каждому блюду и анализируем упоминания\n",
    "\n",
    "result_df = pd.DataFrame(sentiments_summary)                                                                                           # Создаем датафрейм из результатов\n",
    "\n",
    "result_excel_path = r\"C:\\Users\\79125\\OneDrive\\Рабочий стол\\Учёба ПНИПУ АСУ\\3 семестр\\Интеллектуальный анализ Web данных\\ЛР3\\Результаты.xlsx\"  # Сохраняем результаты в Excel\n",
    "result_df.to_excel(result_excel_path, index=False)\n",
    "\n",
    "print(result_df)                                                                                                                       # Визуализация рейтинга"
   ]
  },
  {
   "cell_type": "markdown",
   "metadata": {},
   "source": [
    "Кластеризация, k-means анализ"
   ]
  },
  {
   "cell_type": "code",
   "execution_count": 6,
   "metadata": {},
   "outputs": [
    {
     "name": "stderr",
     "output_type": "stream",
     "text": [
      "c:\\Users\\79125\\AppData\\Local\\Programs\\Python\\Python310\\lib\\site-packages\\sklearn\\cluster\\_kmeans.py:870: FutureWarning: The default value of `n_init` will change from 10 to 'auto' in 1.4. Set the value of `n_init` explicitly to suppress the warning\n",
      "  warnings.warn(\n"
     ]
    },
    {
     "data": {
      "image/png": "[encoded data removed]",
      "text/plain": [
       "<Figure size 640x480 with 1 Axes>"
      ]
     },
     "metadata": {},
     "output_type": "display_data"
    },
    {
     "name": "stdout",
     "output_type": "stream",
     "text": [
      "               Блюда  Средняя тональность  Количество упоминаний  Cluster\n",
      "0              Блюдо                    0                      9        1\n",
      "1       Корниш пасти                    0                      0        0\n",
      "2   Утка по-пекински                    0                      0        0\n",
      "3    Циплята тандури                    0                      0        0\n",
      "4               Суши                    0                      9        1\n",
      "5           Фалафель                    0                      2        0\n",
      "6             Хаггис                    0                      0        0\n",
      "7             Паэлья                    0                      0        0\n",
      "8             Кимчхи                    0                      0        0\n",
      "9             Цезарь                    0                      7        2\n",
      "10             Пицца                    0                     10        1\n",
      "11              Борщ                    0                     10        1\n",
      "12          Пельмени                    0                      9        1\n"
     ]
    }
   ],
   "source": [
    "excel_file_path = r\"C:\\Users\\79125\\OneDrive\\Рабочий стол\\Учёба ПНИПУ АСУ\\3 семестр\\Интеллектуальный анализ Web данных\\ЛР3\\Результаты.xlsx\" # Загрузка данных из созданного ексель файла\n",
    "df = pd.read_excel(excel_file_path)\n",
    "\n",
    "X = df.iloc[:, [1, 2]].values                                                          # Выделение признаков (в данном случае, колонок \"Упоминания\" и \"Средняя тональность\")\n",
    "\n",
    "scaler = StandardScaler()                                                              # Стандартизация данных\n",
    "X_scaled = scaler.fit_transform(X)\n",
    "\n",
    "kmeans = KMeans(n_clusters=3, random_state=42)                                         # Применение k-means\n",
    "df[\"Cluster\"] = kmeans.fit_predict(X_scaled)\n",
    "\n",
    "plt.scatter(X_scaled[:, 0], X_scaled[:, 1], c=df[\"Cluster\"], cmap='viridis')           # Визуализация результатов\n",
    "plt.title('K-Means Clustering')\n",
    "plt.xlabel('Упоминания')\n",
    "plt.ylabel('Средняя тональность')\n",
    "plt.show()\n",
    "\n",
    "print(df)                                                                              # Вывод DataFrame с результатами кластеризации   *(возможно надо сделать анализ с выводами через средние значения по каждому кластеру, пробовал, получается криво)"
   ]
  },
  {
   "cell_type": "code",
   "execution_count": null,
   "metadata": {},
   "outputs": [],
   "source": []
  }
 ],
 "metadata": {
  "kernelspec": {
   "display_name": "Python 3",
   "language": "python",
   "name": "python3"
  },
  "language_info": {
   "codemirror_mode": {
    "name": "ipython",
    "version": 3
   },
   "file_extension": ".py",
   "mimetype": "text/x-python",
   "name": "python",
   "nbconvert_exporter": "python",
   "pygments_lexer": "ipython3",
   "version": "3.10.7"
  }
 },
 "nbformat": 4,
 "nbformat_minor": 2
}
