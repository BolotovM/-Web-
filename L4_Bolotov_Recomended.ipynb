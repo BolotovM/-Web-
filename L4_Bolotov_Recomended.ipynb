{
 "cells": [
  {
   "cell_type": "markdown",
   "metadata": {},
   "source": [
    "Лабораторная работа №4\n",
    "Простые рекомендательные алгоритмы на основе Веб-данных\n",
    "Болотов М.В. АСУ4-22-1м"
   ]
  },
  {
   "cell_type": "code",
   "execution_count": 1,
   "metadata": {},
   "outputs": [],
   "source": [
    "import pandas as pd\n",
    "from sklearn.neighbors import NearestNeighbors"
   ]
  },
  {
   "cell_type": "markdown",
   "metadata": {},
   "source": [
    "Под таблицу с 2 столбцами: фильм, рейтинг"
   ]
  },
  {
   "cell_type": "code",
   "execution_count": 2,
   "metadata": {},
   "outputs": [],
   "source": [
    "def recommend_movies(df, new_movie, new_rating):                                               # new_movie - любой новый фидьм/сериал *только по рейтингк от 0 до 10\n",
    "    \n",
    "    df = df.append({'Фильм': new_movie, 'Рейтинг': new_rating}, ignore_index=True)             # Добавление нового фильма в датафрейм (само добавление внизу кода)\n",
    "    \n",
    "    print(\"\\nОбновленная матрица признаков:\")                                                  # Вывод обновленной матрицы признаков и списка рейтингов\n",
    "    print(df[['Фильм', 'Рейтинг']])\n",
    "    \n",
    "    X = df['Рейтинг'].values.reshape(-1, 1)                                                    # Создание матрицы признаков и списка рейтингов\n",
    "    y = df['Фильм'].values\n",
    "    \n",
    "    knn = NearestNeighbors(n_neighbors=3)                                                      # Создание и обучение модели k-ближайших соседей\n",
    "    knn.fit(X)\n",
    "    \n",
    "    print(\"\\nОбновленная матрица признаков:\")                                                  # Вывод обновленной матрицы признаков и списка рейтингов\n",
    "    print(pd.DataFrame(X, columns=['Рейтинг']))\n",
    "    \n",
    "    print(\"\\nОбновленный список фильмов:\")                                                     \n",
    "    print(y)\n",
    "    \n",
    "    _, indices = knn.kneighbors([[new_rating]])                                                # Определение элементарного рекомендательного алгоритма\n",
    "    recommended_movies = [y[i] for i in indices[0]]\n",
    "    \n",
    "    print(\"\\nРекомендации для Елизаветы:\")                                                     # Вывод рекомендаций\n",
    "    for movie in recommended_movies:\n",
    "        print(movie)"
   ]
  },
  {
   "cell_type": "markdown",
   "metadata": {},
   "source": [
    "Конкретные данные:"
   ]
  },
  {
   "cell_type": "code",
   "execution_count": 3,
   "metadata": {},
   "outputs": [],
   "source": [
    "file_path = r\"C:\\Users\\79125\\OneDrive\\Рабочий стол\\Учёба ПНИПУ АСУ\\3 семестр\\Интеллектуальный анализ Web данных\\ЛР4\\Фильмы.xlsx\"\n",
    "df = pd.read_excel(file_path)                                       # Загрузка данных с рейтингом фильмов из таблицы ексель которые пойдут в функцию (можно прописать массив вручную, но зачем)"
   ]
  },
  {
   "cell_type": "code",
   "execution_count": 4,
   "metadata": {},
   "outputs": [
    {
     "name": "stdout",
     "output_type": "stream",
     "text": [
      "\n",
      "Обновленная матрица признаков:\n",
      "                            Фильм  Рейтинг\n",
      "0                       Прислуга        10\n",
      "1                     Исчезнувшая        9\n",
      "2                Девушка в поезде        9\n",
      "3                Дьявол в деталях        9\n",
      "4                          Зодиак       10\n",
      "5                  Женщина в окне        6\n",
      "6                  Смерть на ниле        6\n",
      "7                  Ветренная река        5\n",
      "8                  Молчание ягнят        4\n",
      "9                           Голем        7\n",
      "10  Девушка с татуировкой дракона        7\n",
      "11              Военный ныряльщик       10\n",
      "\n",
      "Обновленная матрица признаков:\n",
      "    Рейтинг\n",
      "0        10\n",
      "1         9\n",
      "2         9\n",
      "3         9\n",
      "4        10\n",
      "5         6\n",
      "6         6\n",
      "7         5\n",
      "8         4\n",
      "9         7\n",
      "10        7\n",
      "11       10\n",
      "\n",
      "Обновленный список фильмов:\n",
      "['Прислуга\\xa0' 'Исчезнувшая' 'Девушка в поезде' 'Дьявол в деталях'\n",
      " 'Зодиак' 'Женщина в окне' 'Смерть на ниле' 'Ветренная река'\n",
      " 'Молчание ягнят' 'Голем' 'Девушка с татуировкой дракона'\n",
      " 'Военный ныряльщик']\n",
      "\n",
      "Рекомендации для Елизаветы:\n",
      "Военный ныряльщик\n",
      "Прислуга \n",
      "Зодиак\n"
     ]
    },
    {
     "name": "stderr",
     "output_type": "stream",
     "text": [
      "C:\\Users\\79125\\AppData\\Local\\Temp\\ipykernel_12204\\4247622268.py:3: FutureWarning: The frame.append method is deprecated and will be removed from pandas in a future version. Use pandas.concat instead.\n",
      "  df = df.append({'Фильм': new_movie, 'Рейтинг': new_rating}, ignore_index=True)             # Добавление нового фильма в датафрейм (само добавление внизу кода)\n"
     ]
    }
   ],
   "source": [
    "new_movie = \"Военный ныряльщик\"                                     # Вызов функции для добавления и рекомендации нового фильма. (Можно вставить любой фильм и рейтинг, код определит его в рекомендациях.\n",
    "new_rating = 10\n",
    "recommend_movies(df, new_movie, new_rating)                         # *Сформировать новую таблицу ексель - прописать в самой функции (?)"
   ]
  }
 ],
 "metadata": {
  "kernelspec": {
   "display_name": "Python 3",
   "language": "python",
   "name": "python3"
  },
  "language_info": {
   "codemirror_mode": {
    "name": "ipython",
    "version": 3
   },
   "file_extension": ".py",
   "mimetype": "text/x-python",
   "name": "python",
   "nbconvert_exporter": "python",
   "pygments_lexer": "ipython3",
   "version": "3.10.7"
  }
 },
 "nbformat": 4,
 "nbformat_minor": 2
}
