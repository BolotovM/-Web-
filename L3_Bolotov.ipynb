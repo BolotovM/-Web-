{
 "cells": [
  {
   "cell_type": "markdown",
   "metadata": {},
   "source": [
    "Практическая работа №3\n",
    "Болотов М.В. АСУ4-22-1м\n",
    "Поиск ответов из открытых данных"
   ]
  },
  {
   "cell_type": "code",
   "execution_count": 19,
   "metadata": {},
   "outputs": [],
   "source": [
    "import os                                                                             # Импорт необходимых библиотек\n",
    "import folium\n",
    "import requests\n",
    "import pandas as pd"
   ]
  },
  {
   "cell_type": "code",
   "execution_count": 20,
   "metadata": {},
   "outputs": [],
   "source": [
    "url = \"https://opendata.mkrf.ru/opendata/7705851331-museums\"                          # URL данных из открытого источника по музеям РФ\n",
    "\n",
    "download_dir = r\"C:\\Users\\79125\\OneDrive\\Рабочий стол\\Учёба ПНИПУ АСУ\\3 семестр\\Интеллектуальный анализ Web данных\"  # Директория, в которой будет сохранен файл\n",
    "os.makedirs(download_dir, exist_ok=True)\n",
    "\n",
    "file_path = os.path.join(download_dir, \"data-119-structure-4.xlsx\")                    # Полный путь к файлу"
   ]
  },
  {
   "cell_type": "code",
   "execution_count": 21,
   "metadata": {},
   "outputs": [
    {
     "name": "stdout",
     "output_type": "stream",
     "text": [
      "Файл скачан и сохранен в C:\\Users\\79125\\OneDrive\\Рабочий стол\\Учёба ПНИПУ АСУ\\3 семестр\\Интеллектуальный анализ Web данных\\data-119-structure-4.xlsx\n"
     ]
    }
   ],
   "source": [
    "response = requests.get(url)                                                          # Отправка GET-запроса и сохранение файла\n",
    "if response.status_code == 200:\n",
    "    with open(file_path, \"wb\") as file:\n",
    "        file.write(response.content)\n",
    "    print(f\"Файл скачан и сохранен в {file_path}\")\n",
    "else:\n",
    "    print(f\"Ошибка при скачивании файла :( Код состояния: {response.status_code}\")"
   ]
  },
  {
   "cell_type": "code",
   "execution_count": 22,
   "metadata": {},
   "outputs": [
    {
     "name": "stdout",
     "output_type": "stream",
     "text": [
      "Города и колличество музеев по градации::\n",
      "Москва                      402\n",
      "Санкт-Петербург             327\n",
      "Казань                       59\n",
      "Екатеринбург                 57\n",
      "Омск                         57\n",
      "                           ... \n",
      "Тайшетский район              1\n",
      "Звениговский район            1\n",
      "Озерский городской округ      1\n",
      "Альшеевский район             1\n",
      "Шахты                         1\n",
      "Name: data.general.locale.name, Length: 1801, dtype: int64\n"
     ]
    }
   ],
   "source": [
    "df = pd.read_excel(r\"C:\\Users\\79125\\OneDrive\\Рабочий стол\\Учёба ПНИПУ АСУ\\3 семестр\\Интеллектуальный анализ Web данных\\data-19-structure-4.xlsx\")  # Начало обработки файла эксель через Пандас\n",
    "\n",
    "column_2 = df.iloc[:, 1]                                                              # Выбор столбца с названиями городов (2 столбец)\n",
    "\n",
    "count_values = column_2.value_counts()                                                # Подсчёт каждого наименования \n",
    " \n",
    "print(\"Города и колличество музеев по градации::\")\n",
    "print(count_values)"
   ]
  },
  {
   "cell_type": "code",
   "execution_count": 23,
   "metadata": {},
   "outputs": [],
   "source": [
    "def get_coordinates(city_name):                                        # Определение функции для получения координат города\n",
    "    coordinates = {                                                    # Координаты городов с самым большим колличеством музеев                                     \n",
    "        'Москва': [55.7558, 37.6173],\n",
    "        'Санкт-Петербург': [59.9343, 30.3351],\n",
    "        'Екатеринбург': [56.8389, 60.6057],\n",
    "        'Казань': [55.7944, 49.1115],\n",
    "    }\n",
    "    return coordinates.get(city_name, [0, 0])                          # Для неизвестных городов\n",
    "\n",
    "m = folium.Map(location=[55.7558, 37.6173], zoom_start=5)              # Создание карты России\n",
    "\n",
    "df = pd.read_excel(r\"C:\\Users\\79125\\OneDrive\\Рабочий стол\\Учёба ПНИПУ АСУ\\3 семестр\\Интеллектуальный анализ Web данных\\data-19-structure-4.xlsx\")  # Загрузка данных из файла Excel\n",
    "\n",
    "cities = ['Москва', 'Санкт-Петербург','Казань', 'Екатеринбург']        # Извлечение значений из второго столбца и добавление их в список городов\n",
    "cities += df['data.general.locale.name'].tolist()\n",
    "\n",
    "for city in cities:                                                    # Отметка городов на карте\n",
    "    coordinates = get_coordinates(city)\n",
    "    folium.Marker(location=coordinates, popup=city).add_to(m)\n",
    "\n",
    "m.save('russian_cities_museum_map.html')                               # Сохранение полученной карты\n"
   ]
  },
  {
   "cell_type": "code",
   "execution_count": null,
   "metadata": {},
   "outputs": [],
   "source": []
  }
 ],
 "metadata": {
  "kernelspec": {
   "display_name": "Python 3",
   "language": "python",
   "name": "python3"
  },
  "language_info": {
   "codemirror_mode": {
    "name": "ipython",
    "version": 3
   },
   "file_extension": ".py",
   "mimetype": "text/x-python",
   "name": "python",
   "nbconvert_exporter": "python",
   "pygments_lexer": "ipython3",
   "version": "3.10.7"
  },
  "orig_nbformat": 4
 },
 "nbformat": 4,
 "nbformat_minor": 2
}
